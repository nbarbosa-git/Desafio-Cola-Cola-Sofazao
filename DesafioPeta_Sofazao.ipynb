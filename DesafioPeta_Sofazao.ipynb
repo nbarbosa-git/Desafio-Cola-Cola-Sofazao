{
  "nbformat": 4,
  "nbformat_minor": 0,
  "metadata": {
    "colab": {
      "name": "DesafioPeta_Sofazao.ipynb",
      "provenance": [],
      "collapsed_sections": [
        "6unWnOSHI6Z7",
        "f0B6WmT0eb_o",
        "lwVUukuTWx6w",
        "HDJpcYVerJ9s",
        "w3zGJODE6JAF",
        "EcU047kjS7Ia",
        "SRJy8ZH3lulP"
      ],
      "include_colab_link": true
    },
    "kernelspec": {
      "name": "python3",
      "display_name": "Python 3"
    }
  },
  "cells": [
    {
      "cell_type": "markdown",
      "metadata": {
        "id": "view-in-github",
        "colab_type": "text"
      },
      "source": [
        "<a href=\"https://colab.research.google.com/github/nicholasrichers/Desafio-Cola-Cola-Sofazao/blob/master/DesafioPeta_Sofazao.ipynb\" target=\"_parent\"><img src=\"https://colab.research.google.com/assets/colab-badge.svg\" alt=\"Open In Colab\"/></a>"
      ]
    },
    {
      "cell_type": "markdown",
      "metadata": {
        "id": "LJsFcXfZIgL5",
        "colab_type": "text"
      },
      "source": [
        "Resumo: Colocar aqui um resumo da análise até o momento..."
      ]
    },
    {
      "cell_type": "markdown",
      "metadata": {
        "id": "6unWnOSHI6Z7",
        "colab_type": "text"
      },
      "source": [
        "# Setup"
      ]
    },
    {
      "cell_type": "markdown",
      "metadata": {
        "id": "f0B6WmT0eb_o",
        "colab_type": "text"
      },
      "source": [
        "## Importando Bibliotecas"
      ]
    },
    {
      "cell_type": "markdown",
      "metadata": {
        "id": "dTxzz8D1eklF",
        "colab_type": "text"
      },
      "source": [
        "> Instalando Pacotes"
      ]
    },
    {
      "cell_type": "code",
      "metadata": {
        "colab_type": "code",
        "outputId": "bf8afd0b-5455-4164-c5b0-35f0fed599fd",
        "id": "a91cU9YnIN8m",
        "colab": {
          "base_uri": "https://localhost:8080/",
          "height": 0
        }
      },
      "source": [
        "!pip install pendulum"
      ],
      "execution_count": 47,
      "outputs": [
        {
          "output_type": "stream",
          "text": [
            "Requirement already satisfied: pendulum in /usr/local/lib/python3.6/dist-packages (2.0.5)\n",
            "Requirement already satisfied: python-dateutil<3.0,>=2.6 in /usr/local/lib/python3.6/dist-packages (from pendulum) (2.6.1)\n",
            "Requirement already satisfied: pytzdata>=2018.3 in /usr/local/lib/python3.6/dist-packages (from pendulum) (2019.3)\n",
            "Requirement already satisfied: six>=1.5 in /usr/local/lib/python3.6/dist-packages (from python-dateutil<3.0,>=2.6->pendulum) (1.12.0)\n"
          ],
          "name": "stdout"
        }
      ]
    },
    {
      "cell_type": "markdown",
      "metadata": {
        "colab_type": "text",
        "id": "iW9rBrrPIN8j"
      },
      "source": [
        "> Pacote Datetime usado nesse estudo"
      ]
    },
    {
      "cell_type": "code",
      "metadata": {
        "id": "KEC56vMaa3Oi",
        "colab_type": "code",
        "colab": {}
      },
      "source": [
        "import os, random, re, sys, time, warnings\n",
        "import math\n",
        "import numpy as np\n",
        "import pandas as pd\n",
        "import matplotlib.pyplot as plt\n",
        "import seaborn as sns\n",
        "from itertools import combinations\n",
        "from scipy.stats import pearsonr\n",
        "\n",
        "pd.set_option('display.max_rows', 250)\n",
        "pd.options.display.float_format = '{:,.2f}'.format"
      ],
      "execution_count": 0,
      "outputs": []
    },
    {
      "cell_type": "markdown",
      "metadata": {
        "id": "eqG1JruLH3_O",
        "colab_type": "text"
      },
      "source": [
        "> Bibliotecas Privadas"
      ]
    },
    {
      "cell_type": "code",
      "metadata": {
        "id": "8wU-VPNrMYQ-",
        "colab_type": "code",
        "colab": {
          "base_uri": "https://localhost:8080/",
          "height": 0
        },
        "outputId": "4f1a919a-ad63-496b-b948-2736312238df"
      },
      "source": [
        "!git clone https://github.com/nicholasrichers/Desafio-Cola-Cola-Sofazao.git"
      ],
      "execution_count": 49,
      "outputs": [
        {
          "output_type": "stream",
          "text": [
            "fatal: destination path 'Desafio-Cola-Cola-Sofazao' already exists and is not an empty directory.\n"
          ],
          "name": "stdout"
        }
      ]
    },
    {
      "cell_type": "markdown",
      "metadata": {
        "id": "-lWgQ4QuX1_x",
        "colab_type": "text"
      },
      "source": [
        "> Chamamos a função load_library como no exemplo abaixo para importar as bibliotecas privadas.\n",
        "\n",
        "```\n",
        "load_library('lib_name', 'libraries/filename.py')\n",
        "\n",
        "import lib_name\n",
        "ou\n",
        "from lib_name import function_name\n",
        "```\n",
        "\n"
      ]
    },
    {
      "cell_type": "code",
      "metadata": {
        "id": "QVvYaEzzH-ct",
        "colab_type": "code",
        "colab": {}
      },
      "source": [
        "from importlib.machinery import SourceFileLoader\n",
        "def load_library(NAME_LIB, FILE_PATH):\n",
        "  FILE_PATH = '/content/Desafio-Cola-Cola-Sofazao/Datathon_Peta/' + FILE_PATH\n",
        "  somemodule = SourceFileLoader(NAME_LIB, FILE_PATH).load_module()"
      ],
      "execution_count": 0,
      "outputs": []
    },
    {
      "cell_type": "markdown",
      "metadata": {
        "id": "NkYL42IArcFI",
        "colab_type": "text"
      },
      "source": [
        "\n",
        "\n",
        "---\n",
        "\n",
        "\n",
        "\n",
        "---\n",
        "\n"
      ]
    },
    {
      "cell_type": "markdown",
      "metadata": {
        "id": "lwVUukuTWx6w",
        "colab_type": "text"
      },
      "source": [
        "## Upload dataset"
      ]
    },
    {
      "cell_type": "markdown",
      "metadata": {
        "id": "ajV6Bh-Ob1UX",
        "colab_type": "text"
      },
      "source": [
        "> Subimos os arquivos para um repositorio público no [github](https://github.com/nicholasrichers/Desafio-Cola-Cola-Sofazao/tree/master/Datathon%20Peta) para garantir que pode ser lido de qualquer máquina.\n",
        "\n"
      ]
    },
    {
      "cell_type": "code",
      "metadata": {
        "id": "FUvW61HgXCAw",
        "colab_type": "code",
        "outputId": "6c5de883-e940-4c9a-ce98-18597f38747f",
        "colab": {
          "base_uri": "https://localhost:8080/",
          "height": 0
        }
      },
      "source": [
        "REPO_URL = 'https://raw.githubusercontent.com/nicholasrichers/Desafio-Cola-Cola-Sofazao/master/Datathon_Peta/datasets/'\n",
        "\n",
        "df_vendas = pd.read_csv(REPO_URL + 'Alasca_nordeste.csv', sep=';')\n",
        "df_macro = pd.read_csv(REPO_URL + 'macroeconomia.csv', sep=';')\n",
        "\n",
        "\n",
        "print(f'Alasca Shape: {df_vendas.shape} || Macro Shape: {df_macro.shape}') "
      ],
      "execution_count": 51,
      "outputs": [
        {
          "output_type": "stream",
          "text": [
            "Alasca Shape: (242, 14) || Macro Shape: (59, 8)\n"
          ],
          "name": "stdout"
        }
      ]
    },
    {
      "cell_type": "markdown",
      "metadata": {
        "id": "4T2ndxagq9mF",
        "colab_type": "text"
      },
      "source": [
        "> Tudo ok com a importação dos 2 datasets."
      ]
    },
    {
      "cell_type": "code",
      "metadata": {
        "id": "1inIBE3TdI9M",
        "colab_type": "code",
        "outputId": "aa158723-f32e-48e1-97d8-2b6c6698985a",
        "colab": {
          "base_uri": "https://localhost:8080/",
          "height": 0
        }
      },
      "source": [
        "df_vendas.head(2)"
      ],
      "execution_count": 52,
      "outputs": [
        {
          "output_type": "execute_result",
          "data": {
            "text/html": [
              "<div>\n",
              "<style scoped>\n",
              "    .dataframe tbody tr th:only-of-type {\n",
              "        vertical-align: middle;\n",
              "    }\n",
              "\n",
              "    .dataframe tbody tr th {\n",
              "        vertical-align: top;\n",
              "    }\n",
              "\n",
              "    .dataframe thead th {\n",
              "        text-align: right;\n",
              "    }\n",
              "</style>\n",
              "<table border=\"1\" class=\"dataframe\">\n",
              "  <thead>\n",
              "    <tr style=\"text-align: right;\">\n",
              "      <th></th>\n",
              "      <th>Data</th>\n",
              "      <th>Total</th>\n",
              "      <th>SM</th>\n",
              "      <th>ROUTE</th>\n",
              "      <th>INDIRETOS</th>\n",
              "      <th>Week_445</th>\n",
              "      <th>Month_445</th>\n",
              "      <th>Day_gregoriano</th>\n",
              "      <th>Month_gregoriano</th>\n",
              "      <th>Year</th>\n",
              "      <th>Data.1</th>\n",
              "      <th>holidays</th>\n",
              "      <th>weekend</th>\n",
              "      <th>work_day</th>\n",
              "    </tr>\n",
              "  </thead>\n",
              "  <tbody>\n",
              "    <tr>\n",
              "      <th>0</th>\n",
              "      <td>(01/jan) S 01/01/15</td>\n",
              "      <td>1.140.939,79</td>\n",
              "      <td>53.836,01</td>\n",
              "      <td>445.628,58</td>\n",
              "      <td>279.716,45</td>\n",
              "      <td>1</td>\n",
              "      <td>1</td>\n",
              "      <td>1</td>\n",
              "      <td>1</td>\n",
              "      <td>2015</td>\n",
              "      <td>01/01/2015</td>\n",
              "      <td>1</td>\n",
              "      <td>0</td>\n",
              "      <td>0</td>\n",
              "    </tr>\n",
              "    <tr>\n",
              "      <th>1</th>\n",
              "      <td>(10/jan) S 02/01/15</td>\n",
              "      <td>1.208.345,05</td>\n",
              "      <td>44.632,77</td>\n",
              "      <td>411.396,38</td>\n",
              "      <td>373.728,09</td>\n",
              "      <td>2</td>\n",
              "      <td>1</td>\n",
              "      <td>10</td>\n",
              "      <td>1</td>\n",
              "      <td>2015</td>\n",
              "      <td>10/01/2015</td>\n",
              "      <td>0</td>\n",
              "      <td>3</td>\n",
              "      <td>6</td>\n",
              "    </tr>\n",
              "  </tbody>\n",
              "</table>\n",
              "</div>"
            ],
            "text/plain": [
              "                  Data         Total         SM  ... holidays weekend  work_day\n",
              "0  (01/jan) S 01/01/15  1.140.939,79  53.836,01  ...        1       0         0\n",
              "1  (10/jan) S 02/01/15  1.208.345,05  44.632,77  ...        0       3         6\n",
              "\n",
              "[2 rows x 14 columns]"
            ]
          },
          "metadata": {
            "tags": []
          },
          "execution_count": 52
        }
      ]
    },
    {
      "cell_type": "code",
      "metadata": {
        "id": "kTUc36Oqr3-1",
        "colab_type": "code",
        "outputId": "ca6841f7-1af6-4555-e2c6-a9aeb86bfde2",
        "colab": {
          "base_uri": "https://localhost:8080/",
          "height": 0
        }
      },
      "source": [
        "df_macro.head(2)"
      ],
      "execution_count": 53,
      "outputs": [
        {
          "output_type": "execute_result",
          "data": {
            "text/html": [
              "<div>\n",
              "<style scoped>\n",
              "    .dataframe tbody tr th:only-of-type {\n",
              "        vertical-align: middle;\n",
              "    }\n",
              "\n",
              "    .dataframe tbody tr th {\n",
              "        vertical-align: top;\n",
              "    }\n",
              "\n",
              "    .dataframe thead th {\n",
              "        text-align: right;\n",
              "    }\n",
              "</style>\n",
              "<table border=\"1\" class=\"dataframe\">\n",
              "  <thead>\n",
              "    <tr style=\"text-align: right;\">\n",
              "      <th></th>\n",
              "      <th>Data</th>\n",
              "      <th>temperatura</th>\n",
              "      <th>Ocupacao</th>\n",
              "      <th>Ajuste_ipca</th>\n",
              "      <th>PMC</th>\n",
              "      <th>Massa.Renda</th>\n",
              "      <th>Renda</th>\n",
              "      <th>Desemprego</th>\n",
              "    </tr>\n",
              "  </thead>\n",
              "  <tbody>\n",
              "    <tr>\n",
              "      <th>0</th>\n",
              "      <td>01/01/2015</td>\n",
              "      <td>27,54</td>\n",
              "      <td>24.420,64</td>\n",
              "      <td>256,57</td>\n",
              "      <td>97,99</td>\n",
              "      <td>5.047.993,34</td>\n",
              "      <td>1.588,12</td>\n",
              "      <td>9,28</td>\n",
              "    </tr>\n",
              "    <tr>\n",
              "      <th>1</th>\n",
              "      <td>01/02/2015</td>\n",
              "      <td>27,66</td>\n",
              "      <td>24.420,64</td>\n",
              "      <td>259,70</td>\n",
              "      <td>85,23</td>\n",
              "      <td>5.047.993,34</td>\n",
              "      <td>1.588,12</td>\n",
              "      <td>9,28</td>\n",
              "    </tr>\n",
              "  </tbody>\n",
              "</table>\n",
              "</div>"
            ],
            "text/plain": [
              "         Data temperatura   Ocupacao  ...   Massa.Renda     Renda Desemprego\n",
              "0  01/01/2015       27,54  24.420,64  ...  5.047.993,34  1.588,12       9,28\n",
              "1  01/02/2015       27,66  24.420,64  ...  5.047.993,34  1.588,12       9,28\n",
              "\n",
              "[2 rows x 8 columns]"
            ]
          },
          "metadata": {
            "tags": []
          },
          "execution_count": 53
        }
      ]
    },
    {
      "cell_type": "markdown",
      "metadata": {
        "id": "huwMwdvCrXSu",
        "colab_type": "text"
      },
      "source": [
        "\n",
        "\n",
        "---\n",
        "\n",
        "\n",
        "\n",
        "---\n",
        "\n"
      ]
    },
    {
      "cell_type": "markdown",
      "metadata": {
        "id": "Lip0fOnNrDPY",
        "colab_type": "text"
      },
      "source": [
        "# Pré Processamento"
      ]
    },
    {
      "cell_type": "markdown",
      "metadata": {
        "id": "cva9VOHPS0sp",
        "colab_type": "text"
      },
      "source": [
        "## Dataset vendas\n",
        "\n",
        "*Nessa seçao vamos fazer um primeiro contato com cada coluna, Para identificar potenciais erros e necessidade de colunas adicionais.*"
      ]
    },
    {
      "cell_type": "markdown",
      "metadata": {
        "id": "HDJpcYVerJ9s",
        "colab_type": "text"
      },
      "source": [
        "### Coluna: **Data**\n",
        "\n",
        "> Observações:\n",
        "\n",
        "1.     *(17/Jan)* - Data exata no calendario gregoriano\n",
        "2.     *S* - Todas as datas selecionadas caem num sábado\n",
        "3.     *03/01/15* - A primeira informação '03' remete a 3ª semana do mes '01' seguindo o calendário 4-4-5"
      ]
    },
    {
      "cell_type": "code",
      "metadata": {
        "id": "IE41YnIdue3Q",
        "colab_type": "code",
        "outputId": "c26542f0-84d6-4876-f85f-0863447e4e05",
        "colab": {
          "base_uri": "https://localhost:8080/",
          "height": 0
        }
      },
      "source": [
        "df_vendas['Data'].iloc[2]"
      ],
      "execution_count": 54,
      "outputs": [
        {
          "output_type": "execute_result",
          "data": {
            "text/plain": [
              "'(17/jan) S 03/01/15'"
            ]
          },
          "metadata": {
            "tags": []
          },
          "execution_count": 54
        }
      ]
    },
    {
      "cell_type": "markdown",
      "metadata": {
        "id": "CKDwqIZ7xIZe",
        "colab_type": "text"
      },
      "source": [
        "\n",
        "\n",
        "---\n",
        "\n",
        "\n",
        "\n",
        "---\n",
        "\n"
      ]
    },
    {
      "cell_type": "markdown",
      "metadata": {
        "id": "IXRLzXp1uaCX",
        "colab_type": "text"
      },
      "source": [
        "### Colunas: **Total, SM, Route e Indiretos**\n",
        "\n",
        "> *Observações:*\n",
        "\n",
        "1. As 3 colunas são do tipo string, vamos convertê-las para numérico\n",
        "2. *SM* = Supermercado, Route = Bares e lanchonetes, Indiretos = Depositos e Distribuidoras. \n",
        "3. Criaremos um canal \"Outros\" para a soma dos canais dar igual ao Total."
      ]
    },
    {
      "cell_type": "code",
      "metadata": {
        "id": "fi2b9EKxJAlr",
        "colab_type": "code",
        "outputId": "7e261f83-2f77-459e-d4c5-4b4aee6319de",
        "colab": {
          "base_uri": "https://localhost:8080/",
          "height": 102
        }
      },
      "source": [
        "df_vendas.iloc[:, 1:5].dtypes"
      ],
      "execution_count": 55,
      "outputs": [
        {
          "output_type": "execute_result",
          "data": {
            "text/plain": [
              "Total        object\n",
              "SM           object\n",
              "ROUTE        object\n",
              "INDIRETOS    object\n",
              "dtype: object"
            ]
          },
          "metadata": {
            "tags": []
          },
          "execution_count": 55
        }
      ]
    },
    {
      "cell_type": "markdown",
      "metadata": {
        "id": "_T81T-BncnBK",
        "colab_type": "text"
      },
      "source": [
        "> Como o google colab nao possui o tipo 'pt_BR.utf8', teremos que alterar o formato dos numeros manualmente via regex"
      ]
    },
    {
      "cell_type": "code",
      "metadata": {
        "id": "hy9gAcdYQ3bt",
        "colab_type": "code",
        "outputId": "3e83eb60-3e24-45e7-d691-9a787b920b71",
        "colab": {
          "base_uri": "https://localhost:8080/",
          "height": 85
        }
      },
      "source": [
        "!locale -a"
      ],
      "execution_count": 56,
      "outputs": [
        {
          "output_type": "stream",
          "text": [
            "C\n",
            "C.UTF-8\n",
            "en_US.utf8\n",
            "POSIX\n"
          ],
          "name": "stdout"
        }
      ]
    },
    {
      "cell_type": "code",
      "metadata": {
        "id": "XyiYV1W2phLx",
        "colab_type": "code",
        "colab": {}
      },
      "source": [
        "load_library('adjust_datatype', 'libraries/adjust_datatype.py')\n",
        "from adjust_datatype import PT_BR_string_to_numeric"
      ],
      "execution_count": 0,
      "outputs": []
    },
    {
      "cell_type": "code",
      "metadata": {
        "id": "_2G9oZAQLSNZ",
        "colab_type": "code",
        "colab": {}
      },
      "source": [
        "for col in df_vendas.columns[1:5]: \n",
        "  df_vendas[col] = PT_BR_string_to_numeric(df_vendas, col)"
      ],
      "execution_count": 0,
      "outputs": []
    },
    {
      "cell_type": "markdown",
      "metadata": {
        "id": "uT240L4NSYaO",
        "colab_type": "text"
      },
      "source": [
        "> Criando o quarto canal de vendas \"Outros\". Vemos que esse canal representa geralmente um terço do volume de vendas que não consta do banco de dados."
      ]
    },
    {
      "cell_type": "code",
      "metadata": {
        "id": "vjJxpfq-RsEw",
        "colab_type": "code",
        "colab": {}
      },
      "source": [
        "df_vendas['OUTROS'] = df_vendas['Total'] - df_vendas[df_vendas.columns[2:5]].sum(axis=1)"
      ],
      "execution_count": 0,
      "outputs": []
    },
    {
      "cell_type": "code",
      "metadata": {
        "id": "ENsmUVplHKUt",
        "colab_type": "code",
        "outputId": "d757fc29-b730-469e-92bf-dc60240b529d",
        "colab": {
          "base_uri": "https://localhost:8080/",
          "height": 298
        }
      },
      "source": [
        "df_vendas['perc_outros'] = df_vendas['OUTROS'] / df_vendas['Total']\n",
        "sns.boxplot(y='perc_outros', x='Year', data=df_vendas)"
      ],
      "execution_count": 60,
      "outputs": [
        {
          "output_type": "execute_result",
          "data": {
            "text/plain": [
              "<matplotlib.axes._subplots.AxesSubplot at 0x7f64e8d95160>"
            ]
          },
          "metadata": {
            "tags": []
          },
          "execution_count": 60
        },
        {
          "output_type": "display_data",
          "data": {
            "image/png": "[encoded data removed]",
            "text/plain": [
              "<Figure size 432x288 with 1 Axes>"
            ]
          },
          "metadata": {
            "tags": []
          }
        }
      ]
    },
    {
      "cell_type": "markdown",
      "metadata": {
        "id": "ZRynfkietL97",
        "colab_type": "text"
      },
      "source": [
        "\n",
        "\n",
        "---\n",
        "\n",
        "\n",
        "\n",
        "---\n",
        "\n"
      ]
    },
    {
      "cell_type": "markdown",
      "metadata": {
        "id": "PaVsLviwtW5A",
        "colab_type": "text"
      },
      "source": [
        "### Colunas **Week_445,\tMonth_445,\tDay_gregoriano,\tMonth_gregoriano,\tYear,\tData.1**\n",
        "\n",
        "*Observações:*\n",
        "\n",
        "\n",
        "1.   Em algumas linhas o \"Month_445\" está diferente do \"Month_gregoriano\"\n",
        "2.   Existem Alguns erros similares para a coluna \"week_445\"\n",
        "3.   Como já existe uma coluna chamada \"Data\", o pandas renomeuou para \"Data.1\".\n",
        "\n",
        "\n",
        "\n"
      ]
    },
    {
      "cell_type": "markdown",
      "metadata": {
        "id": "apxzHM0Q3Q_J",
        "colab_type": "text"
      },
      "source": [
        "Percebemos esse descasamento entre as colunas \"Month_445\" e \"Month_gregoriano\", sempre na ultima semana de alguns meses, devido ao formato do calendário 445, essas diferenças podem atrapalhar na hora de plotar gráficos, então criaremos colunas provisórias para esse fim. "
      ]
    },
    {
      "cell_type": "code",
      "metadata": {
        "id": "DOmIcmdEt8w4",
        "colab_type": "code",
        "outputId": "18b71cb0-05aa-4d27-8f72-745ba01a4de9",
        "colab": {
          "base_uri": "https://localhost:8080/",
          "height": 235
        }
      },
      "source": [
        "df_vendas[df_vendas.Month_445 != df_vendas.Month_gregoriano].iloc[:,[0,6,8]].head(6)"
      ],
      "execution_count": 61,
      "outputs": [
        {
          "output_type": "execute_result",
          "data": {
            "text/html": [
              "<div>\n",
              "<style scoped>\n",
              "    .dataframe tbody tr th:only-of-type {\n",
              "        vertical-align: middle;\n",
              "    }\n",
              "\n",
              "    .dataframe tbody tr th {\n",
              "        vertical-align: top;\n",
              "    }\n",
              "\n",
              "    .dataframe thead th {\n",
              "        text-align: right;\n",
              "    }\n",
              "</style>\n",
              "<table border=\"1\" class=\"dataframe\">\n",
              "  <thead>\n",
              "    <tr style=\"text-align: right;\">\n",
              "      <th></th>\n",
              "      <th>Data</th>\n",
              "      <th>Month_445</th>\n",
              "      <th>Month_gregoriano</th>\n",
              "    </tr>\n",
              "  </thead>\n",
              "  <tbody>\n",
              "    <tr>\n",
              "      <th>4</th>\n",
              "      <td>(31/jan) S 01/02/15</td>\n",
              "      <td>2</td>\n",
              "      <td>1</td>\n",
              "    </tr>\n",
              "    <tr>\n",
              "      <th>8</th>\n",
              "      <td>(28/fev) S 01/03/15</td>\n",
              "      <td>3</td>\n",
              "      <td>2</td>\n",
              "    </tr>\n",
              "    <tr>\n",
              "      <th>21</th>\n",
              "      <td>(30/mai) S 01/06/15</td>\n",
              "      <td>6</td>\n",
              "      <td>5</td>\n",
              "    </tr>\n",
              "    <tr>\n",
              "      <th>34</th>\n",
              "      <td>(29/ago) S 01/09/15</td>\n",
              "      <td>9</td>\n",
              "      <td>8</td>\n",
              "    </tr>\n",
              "    <tr>\n",
              "      <th>43</th>\n",
              "      <td>(31/out) S 01/11/15</td>\n",
              "      <td>11</td>\n",
              "      <td>10</td>\n",
              "    </tr>\n",
              "    <tr>\n",
              "      <th>47</th>\n",
              "      <td>(28/nov) S 01/12/15</td>\n",
              "      <td>12</td>\n",
              "      <td>11</td>\n",
              "    </tr>\n",
              "  </tbody>\n",
              "</table>\n",
              "</div>"
            ],
            "text/plain": [
              "                   Data  Month_445  Month_gregoriano\n",
              "4   (31/jan) S 01/02/15          2                 1\n",
              "8   (28/fev) S 01/03/15          3                 2\n",
              "21  (30/mai) S 01/06/15          6                 5\n",
              "34  (29/ago) S 01/09/15          9                 8\n",
              "43  (31/out) S 01/11/15         11                10\n",
              "47  (28/nov) S 01/12/15         12                11"
            ]
          },
          "metadata": {
            "tags": []
          },
          "execution_count": 61
        }
      ]
    },
    {
      "cell_type": "markdown",
      "metadata": {
        "id": "gJaeMVbI4LvI",
        "colab_type": "text"
      },
      "source": [
        "Vamos também renomear a coluna Data.1 para Datetime, e trocar o tipo para datetime."
      ]
    },
    {
      "cell_type": "code",
      "metadata": {
        "id": "Egc7WcQjt8vD",
        "colab_type": "code",
        "colab": {}
      },
      "source": [
        "df_vendas.rename(columns={'Data.1':'Datetime'}, inplace=True)\n",
        "df_vendas['Datetime'] = pd.to_datetime(df_vendas['Datetime'], format='%d/%m/%Y')"
      ],
      "execution_count": 0,
      "outputs": []
    },
    {
      "cell_type": "markdown",
      "metadata": {
        "id": "hZp1o9x8K4rl",
        "colab_type": "text"
      },
      "source": [
        "Criamos uma coluna similar a \"week_445\" chamada \"week_month\", a para evitar inconsistências."
      ]
    },
    {
      "cell_type": "code",
      "metadata": {
        "id": "r9if-VDUvOZ1",
        "colab_type": "code",
        "colab": {}
      },
      "source": [
        "load_library('adjust_datetime', 'libraries/adjust_datetime.py')\n",
        "from adjust_datetime import week_of_month"
      ],
      "execution_count": 0,
      "outputs": []
    },
    {
      "cell_type": "code",
      "metadata": {
        "id": "rEAKd0LOKYbG",
        "colab_type": "code",
        "colab": {}
      },
      "source": [
        "df_vendas['Week_Month'] = df_vendas['Datetime'].map(week_of_month)"
      ],
      "execution_count": 0,
      "outputs": []
    },
    {
      "cell_type": "markdown",
      "metadata": {
        "id": "BPB5hfsjKsmu",
        "colab_type": "text"
      },
      "source": [
        "Aproveitamos para criar uma coluna \"week_year\", que será util mais a frente.\n",
        "\n",
        "Obs: A função dt.weekofyear do pandas  retorna 52 para o dia 1-Jan, seguindo o [padrão ISO](https://stackoverflow.com/questions/44372048/python-pandas-timestamp-week-returns-52-for-first-day-of-year/44372130), contudo essa diferença causou alguns problemas na análise na seção subsequente, então optamos por inserir a coluna \"week_year\" manualmente."
      ]
    },
    {
      "cell_type": "code",
      "metadata": {
        "id": "9O2DGL6F7Vyh",
        "colab_type": "code",
        "colab": {}
      },
      "source": [
        "df_vendas['Week_Year'] = ([i for i in range(1,53)]*5)[0:242] #df_vendas['Datetime'].dt.weekofyear"
      ],
      "execution_count": 0,
      "outputs": []
    },
    {
      "cell_type": "markdown",
      "metadata": {
        "id": "tGNzA_TK44MM",
        "colab_type": "text"
      },
      "source": [
        "\n",
        "\n",
        "---\n",
        "\n",
        "\n",
        "\n",
        "---\n",
        "\n"
      ]
    },
    {
      "cell_type": "markdown",
      "metadata": {
        "id": "w3zGJODE6JAF",
        "colab_type": "text"
      },
      "source": [
        "### Colunas **holidays,\tweekend,\twork_day**\n",
        "\n",
        "*Observações:*\n",
        "\n",
        "\n",
        "1.  A soma das 3 colunas deveria dar 7\n",
        "2.  Maior parte das colunas dão {h: 0, w:2, wd: 5} como esperado.\n",
        "3.  Sempre há diferenças na primeira e segunda semana de cada ano, e em algumas com feriado\n",
        "4. Isso acontece porque alguns intervalos não tem uma diferença de 7 dias como se supunha.\n"
      ]
    },
    {
      "cell_type": "code",
      "metadata": {
        "id": "t_RzynLVt8nu",
        "colab_type": "code",
        "outputId": "bbaffd82-a194-43ae-85ba-1a1ccf7357cf",
        "colab": {
          "base_uri": "https://localhost:8080/",
          "height": 0
        }
      },
      "source": [
        "df_vendas[(df_vendas.holidays + df_vendas.weekend + df_vendas.work_day) != 7].iloc[:, 9:14]"
      ],
      "execution_count": 66,
      "outputs": [
        {
          "output_type": "execute_result",
          "data": {
            "text/html": [
              "<div>\n",
              "<style scoped>\n",
              "    .dataframe tbody tr th:only-of-type {\n",
              "        vertical-align: middle;\n",
              "    }\n",
              "\n",
              "    .dataframe tbody tr th {\n",
              "        vertical-align: top;\n",
              "    }\n",
              "\n",
              "    .dataframe thead th {\n",
              "        text-align: right;\n",
              "    }\n",
              "</style>\n",
              "<table border=\"1\" class=\"dataframe\">\n",
              "  <thead>\n",
              "    <tr style=\"text-align: right;\">\n",
              "      <th></th>\n",
              "      <th>Year</th>\n",
              "      <th>Datetime</th>\n",
              "      <th>holidays</th>\n",
              "      <th>weekend</th>\n",
              "      <th>work_day</th>\n",
              "    </tr>\n",
              "  </thead>\n",
              "  <tbody>\n",
              "    <tr>\n",
              "      <th>0</th>\n",
              "      <td>2015</td>\n",
              "      <td>2015-01-01</td>\n",
              "      <td>1</td>\n",
              "      <td>0</td>\n",
              "      <td>0</td>\n",
              "    </tr>\n",
              "    <tr>\n",
              "      <th>1</th>\n",
              "      <td>2015</td>\n",
              "      <td>2015-01-10</td>\n",
              "      <td>0</td>\n",
              "      <td>3</td>\n",
              "      <td>6</td>\n",
              "    </tr>\n",
              "    <tr>\n",
              "      <th>46</th>\n",
              "      <td>2015</td>\n",
              "      <td>2015-11-21</td>\n",
              "      <td>1</td>\n",
              "      <td>2</td>\n",
              "      <td>5</td>\n",
              "    </tr>\n",
              "    <tr>\n",
              "      <th>52</th>\n",
              "      <td>2016</td>\n",
              "      <td>2016-01-01</td>\n",
              "      <td>1</td>\n",
              "      <td>1</td>\n",
              "      <td>4</td>\n",
              "    </tr>\n",
              "    <tr>\n",
              "      <th>53</th>\n",
              "      <td>2016</td>\n",
              "      <td>2016-01-09</td>\n",
              "      <td>0</td>\n",
              "      <td>3</td>\n",
              "      <td>5</td>\n",
              "    </tr>\n",
              "    <tr>\n",
              "      <th>70</th>\n",
              "      <td>2016</td>\n",
              "      <td>2016-05-07</td>\n",
              "      <td>1</td>\n",
              "      <td>2</td>\n",
              "      <td>5</td>\n",
              "    </tr>\n",
              "    <tr>\n",
              "      <th>104</th>\n",
              "      <td>2017</td>\n",
              "      <td>2017-01-01</td>\n",
              "      <td>2</td>\n",
              "      <td>3</td>\n",
              "      <td>5</td>\n",
              "    </tr>\n",
              "    <tr>\n",
              "      <th>105</th>\n",
              "      <td>2017</td>\n",
              "      <td>2017-01-07</td>\n",
              "      <td>0</td>\n",
              "      <td>1</td>\n",
              "      <td>5</td>\n",
              "    </tr>\n",
              "    <tr>\n",
              "      <th>156</th>\n",
              "      <td>2018</td>\n",
              "      <td>2018-01-01</td>\n",
              "      <td>2</td>\n",
              "      <td>3</td>\n",
              "      <td>4</td>\n",
              "    </tr>\n",
              "    <tr>\n",
              "      <th>157</th>\n",
              "      <td>2018</td>\n",
              "      <td>2018-01-06</td>\n",
              "      <td>0</td>\n",
              "      <td>1</td>\n",
              "      <td>4</td>\n",
              "    </tr>\n",
              "    <tr>\n",
              "      <th>172</th>\n",
              "      <td>2018</td>\n",
              "      <td>2018-04-21</td>\n",
              "      <td>1</td>\n",
              "      <td>2</td>\n",
              "      <td>5</td>\n",
              "    </tr>\n",
              "    <tr>\n",
              "      <th>208</th>\n",
              "      <td>2019</td>\n",
              "      <td>2019-01-01</td>\n",
              "      <td>2</td>\n",
              "      <td>3</td>\n",
              "      <td>5</td>\n",
              "    </tr>\n",
              "    <tr>\n",
              "      <th>209</th>\n",
              "      <td>2019</td>\n",
              "      <td>2019-01-05</td>\n",
              "      <td>0</td>\n",
              "      <td>1</td>\n",
              "      <td>3</td>\n",
              "    </tr>\n",
              "    <tr>\n",
              "      <th>225</th>\n",
              "      <td>2019</td>\n",
              "      <td>2019-04-27</td>\n",
              "      <td>1</td>\n",
              "      <td>2</td>\n",
              "      <td>5</td>\n",
              "    </tr>\n",
              "  </tbody>\n",
              "</table>\n",
              "</div>"
            ],
            "text/plain": [
              "     Year   Datetime  holidays  weekend  work_day\n",
              "0    2015 2015-01-01         1        0         0\n",
              "1    2015 2015-01-10         0        3         6\n",
              "46   2015 2015-11-21         1        2         5\n",
              "52   2016 2016-01-01         1        1         4\n",
              "53   2016 2016-01-09         0        3         5\n",
              "70   2016 2016-05-07         1        2         5\n",
              "104  2017 2017-01-01         2        3         5\n",
              "105  2017 2017-01-07         0        1         5\n",
              "156  2018 2018-01-01         2        3         4\n",
              "157  2018 2018-01-06         0        1         4\n",
              "172  2018 2018-04-21         1        2         5\n",
              "208  2019 2019-01-01         2        3         5\n",
              "209  2019 2019-01-05         0        1         3\n",
              "225  2019 2019-04-27         1        2         5"
            ]
          },
          "metadata": {
            "tags": []
          },
          "execution_count": 66
        }
      ]
    },
    {
      "cell_type": "markdown",
      "metadata": {
        "id": "ABw2bWNh7rnv",
        "colab_type": "text"
      },
      "source": [
        "\n",
        "\n",
        "---\n",
        "\n",
        "\n",
        "\n",
        "---\n",
        "\n"
      ]
    },
    {
      "cell_type": "markdown",
      "metadata": {
        "id": "EcU047kjS7Ia",
        "colab_type": "text"
      },
      "source": [
        "## Dataset Macro\n",
        "\n",
        "*Primeira análise das colunas do dataset MACRO*"
      ]
    },
    {
      "cell_type": "markdown",
      "metadata": {
        "id": "rVUURsYccCI6",
        "colab_type": "text"
      },
      "source": [
        "Dicionário Colunas:\n",
        "1. *Data*: Mensal entre Jan-2015 e Nov-2019 (vendas => Ago-2019)\n",
        "2. *Temperatura*: Média mensal\n",
        "3. *Ocupação*: Taxa inversa ao desemprego, mas inclui economia informal\n",
        "4. *Ajuste_ipca*: Calcula a variação percentual entre cada mês da tabela q vc vai ter o IPCA daquele mês\n",
        "5. *PMC*: Pesquisa Mensal do Comércio (IBGE)\n",
        "6. *Massa.Renda*: (pop * renda_ppc)\n",
        "7. *Renda*: Renda Per Capita NE (IBGE)\n",
        "8. *Desemprego*: Taxa(%) desemprego NE"
      ]
    },
    {
      "cell_type": "markdown",
      "metadata": {
        "id": "FpPvvMXyT-8Z",
        "colab_type": "text"
      },
      "source": [
        "> Agora vamos analisar o tipo das colunas do **Dataset Macro**, e fazer os ajutes necessários"
      ]
    },
    {
      "cell_type": "code",
      "metadata": {
        "id": "qtTuRzkbS93y",
        "colab_type": "code",
        "outputId": "3f2372b9-9754-45d1-c034-2d3c20969988",
        "colab": {
          "base_uri": "https://localhost:8080/",
          "height": 0
        }
      },
      "source": [
        "df_macro.dtypes"
      ],
      "execution_count": 67,
      "outputs": [
        {
          "output_type": "execute_result",
          "data": {
            "text/plain": [
              "Data           object\n",
              "temperatura    object\n",
              "Ocupacao       object\n",
              "Ajuste_ipca    object\n",
              "PMC            object\n",
              "Massa.Renda    object\n",
              "Renda          object\n",
              "Desemprego     object\n",
              "dtype: object"
            ]
          },
          "metadata": {
            "tags": []
          },
          "execution_count": 67
        }
      ]
    },
    {
      "cell_type": "markdown",
      "metadata": {
        "id": "2VHjsXodY94m",
        "colab_type": "text"
      },
      "source": [
        "> Vamos passar a coluna **Data** para o tipo datetime."
      ]
    },
    {
      "cell_type": "code",
      "metadata": {
        "id": "Pc5FOZOXS97D",
        "colab_type": "code",
        "colab": {}
      },
      "source": [
        "df_macro['Data'] = pd.to_datetime(df_macro['Data'], format='%d/%m/%Y')"
      ],
      "execution_count": 0,
      "outputs": []
    },
    {
      "cell_type": "markdown",
      "metadata": {
        "id": "XK-bRB3GZF6V",
        "colab_type": "text"
      },
      "source": [
        "> Vamos ajustar os valores do tipo string para numérico, como feito na seção anterior, para todas as outras colunas"
      ]
    },
    {
      "cell_type": "code",
      "metadata": {
        "id": "qgSQZohSUpQk",
        "colab_type": "code",
        "colab": {}
      },
      "source": [
        "for col in df_macro.columns[1::]: \n",
        "  df_macro[col] = PT_BR_string_to_numeric(df_macro, col)"
      ],
      "execution_count": 0,
      "outputs": []
    },
    {
      "cell_type": "markdown",
      "metadata": {
        "id": "jSywfFsBiZKQ",
        "colab_type": "text"
      },
      "source": [
        "> Usamos o método describe em busca de potenciais valores nulos e outliers para esse dataset, aparentemente o valor fora da curva se encontra na coluna **Massa.Renda** que possui um valor mínimo muito abaixo do 1º Quartil, indicando um possível **outlier**."
      ]
    },
    {
      "cell_type": "code",
      "metadata": {
        "id": "-6SY5zddinTd",
        "colab_type": "code",
        "outputId": "1ad7065f-18d4-475a-afac-9f51838d7086",
        "colab": {
          "base_uri": "https://localhost:8080/",
          "height": 0
        }
      },
      "source": [
        "df_macro.describe()"
      ],
      "execution_count": 70,
      "outputs": [
        {
          "output_type": "execute_result",
          "data": {
            "text/html": [
              "<div>\n",
              "<style scoped>\n",
              "    .dataframe tbody tr th:only-of-type {\n",
              "        vertical-align: middle;\n",
              "    }\n",
              "\n",
              "    .dataframe tbody tr th {\n",
              "        vertical-align: top;\n",
              "    }\n",
              "\n",
              "    .dataframe thead th {\n",
              "        text-align: right;\n",
              "    }\n",
              "</style>\n",
              "<table border=\"1\" class=\"dataframe\">\n",
              "  <thead>\n",
              "    <tr style=\"text-align: right;\">\n",
              "      <th></th>\n",
              "      <th>temperatura</th>\n",
              "      <th>Ocupacao</th>\n",
              "      <th>Ajuste_ipca</th>\n",
              "      <th>PMC</th>\n",
              "      <th>Massa.Renda</th>\n",
              "      <th>Renda</th>\n",
              "      <th>Desemprego</th>\n",
              "    </tr>\n",
              "  </thead>\n",
              "  <tbody>\n",
              "    <tr>\n",
              "      <th>count</th>\n",
              "      <td>59.00</td>\n",
              "      <td>59.00</td>\n",
              "      <td>59.00</td>\n",
              "      <td>59.00</td>\n",
              "      <td>59.00</td>\n",
              "      <td>59.00</td>\n",
              "      <td>59.00</td>\n",
              "    </tr>\n",
              "    <tr>\n",
              "      <th>mean</th>\n",
              "      <td>27.03</td>\n",
              "      <td>23,383.11</td>\n",
              "      <td>300.24</td>\n",
              "      <td>87.50</td>\n",
              "      <td>4,229,405.91</td>\n",
              "      <td>1,572.52</td>\n",
              "      <td>13.32</td>\n",
              "    </tr>\n",
              "    <tr>\n",
              "      <th>std</th>\n",
              "      <td>0.82</td>\n",
              "      <td>605.27</td>\n",
              "      <td>19.77</td>\n",
              "      <td>8.63</td>\n",
              "      <td>1,571,830.71</td>\n",
              "      <td>38.98</td>\n",
              "      <td>1.90</td>\n",
              "    </tr>\n",
              "    <tr>\n",
              "      <th>min</th>\n",
              "      <td>25.06</td>\n",
              "      <td>22,420.47</td>\n",
              "      <td>256.57</td>\n",
              "      <td>75.31</td>\n",
              "      <td>1,615.21</td>\n",
              "      <td>1,500.53</td>\n",
              "      <td>9.28</td>\n",
              "    </tr>\n",
              "    <tr>\n",
              "      <th>25%</th>\n",
              "      <td>26.29</td>\n",
              "      <td>22,954.20</td>\n",
              "      <td>288.70</td>\n",
              "      <td>82.65</td>\n",
              "      <td>4,611,945.20</td>\n",
              "      <td>1,541.01</td>\n",
              "      <td>12.70</td>\n",
              "    </tr>\n",
              "    <tr>\n",
              "      <th>50%</th>\n",
              "      <td>27.29</td>\n",
              "      <td>23,363.04</td>\n",
              "      <td>302.34</td>\n",
              "      <td>85.25</td>\n",
              "      <td>4,794,792.25</td>\n",
              "      <td>1,576.33</td>\n",
              "      <td>13.90</td>\n",
              "    </tr>\n",
              "    <tr>\n",
              "      <th>75%</th>\n",
              "      <td>27.66</td>\n",
              "      <td>23,688.78</td>\n",
              "      <td>316.55</td>\n",
              "      <td>89.53</td>\n",
              "      <td>4,952,818.40</td>\n",
              "      <td>1,601.76</td>\n",
              "      <td>14.44</td>\n",
              "    </tr>\n",
              "    <tr>\n",
              "      <th>max</th>\n",
              "      <td>28.31</td>\n",
              "      <td>24,420.64</td>\n",
              "      <td>329.48</td>\n",
              "      <td>115.78</td>\n",
              "      <td>5,047,993.34</td>\n",
              "      <td>1,619.34</td>\n",
              "      <td>15.82</td>\n",
              "    </tr>\n",
              "  </tbody>\n",
              "</table>\n",
              "</div>"
            ],
            "text/plain": [
              "       temperatura  Ocupacao  Ajuste_ipca  ...  Massa.Renda    Renda  Desemprego\n",
              "count        59.00     59.00        59.00  ...        59.00    59.00       59.00\n",
              "mean         27.03 23,383.11       300.24  ... 4,229,405.91 1,572.52       13.32\n",
              "std           0.82    605.27        19.77  ... 1,571,830.71    38.98        1.90\n",
              "min          25.06 22,420.47       256.57  ...     1,615.21 1,500.53        9.28\n",
              "25%          26.29 22,954.20       288.70  ... 4,611,945.20 1,541.01       12.70\n",
              "50%          27.29 23,363.04       302.34  ... 4,794,792.25 1,576.33       13.90\n",
              "75%          27.66 23,688.78       316.55  ... 4,952,818.40 1,601.76       14.44\n",
              "max          28.31 24,420.64       329.48  ... 5,047,993.34 1,619.34       15.82\n",
              "\n",
              "[8 rows x 7 columns]"
            ]
          },
          "metadata": {
            "tags": []
          },
          "execution_count": 70
        }
      ]
    },
    {
      "cell_type": "markdown",
      "metadata": {
        "id": "eYswdqUOjdvy",
        "colab_type": "text"
      },
      "source": [
        "> Olhando esse valor mais de perto vemos claramente que esse valor (Massa.Renda = 1615.21) foi inserido de forma errada, replicando o valor da coluna subsequente, vamos tratar esse e demais erros na próxima seção.\n",
        "\n",
        "Obs: Até o momento usamos apenas os dados macro até Ago-2019, periodo do dataset vendas, logo esse registo com erro foi cortado"
      ]
    },
    {
      "cell_type": "code",
      "metadata": {
        "id": "2ER-Kmx7ia9t",
        "colab_type": "code",
        "outputId": "57a510bc-3bb6-4bec-f3f1-d9e24c8de4cc",
        "colab": {
          "base_uri": "https://localhost:8080/",
          "height": 0
        }
      },
      "source": [
        "df_macro.tail(10)"
      ],
      "execution_count": 71,
      "outputs": [
        {
          "output_type": "execute_result",
          "data": {
            "text/html": [
              "<div>\n",
              "<style scoped>\n",
              "    .dataframe tbody tr th:only-of-type {\n",
              "        vertical-align: middle;\n",
              "    }\n",
              "\n",
              "    .dataframe tbody tr th {\n",
              "        vertical-align: top;\n",
              "    }\n",
              "\n",
              "    .dataframe thead th {\n",
              "        text-align: right;\n",
              "    }\n",
              "</style>\n",
              "<table border=\"1\" class=\"dataframe\">\n",
              "  <thead>\n",
              "    <tr style=\"text-align: right;\">\n",
              "      <th></th>\n",
              "      <th>Data</th>\n",
              "      <th>temperatura</th>\n",
              "      <th>Ocupacao</th>\n",
              "      <th>Ajuste_ipca</th>\n",
              "      <th>PMC</th>\n",
              "      <th>Massa.Renda</th>\n",
              "      <th>Renda</th>\n",
              "      <th>Desemprego</th>\n",
              "    </tr>\n",
              "  </thead>\n",
              "  <tbody>\n",
              "    <tr>\n",
              "      <th>49</th>\n",
              "      <td>2019-02-01</td>\n",
              "      <td>27.48</td>\n",
              "      <td>22,966.75</td>\n",
              "      <td>320.79</td>\n",
              "      <td>79.01</td>\n",
              "      <td>1,615.21</td>\n",
              "      <td>1,615.21</td>\n",
              "      <td>15.20</td>\n",
              "    </tr>\n",
              "    <tr>\n",
              "      <th>50</th>\n",
              "      <td>2019-03-01</td>\n",
              "      <td>27.51</td>\n",
              "      <td>23,089.94</td>\n",
              "      <td>323.19</td>\n",
              "      <td>82.65</td>\n",
              "      <td>1,619.34</td>\n",
              "      <td>1,619.34</td>\n",
              "      <td>14.97</td>\n",
              "    </tr>\n",
              "    <tr>\n",
              "      <th>51</th>\n",
              "      <td>2019-04-01</td>\n",
              "      <td>27.19</td>\n",
              "      <td>23,321.52</td>\n",
              "      <td>325.03</td>\n",
              "      <td>81.92</td>\n",
              "      <td>4,830,741.06</td>\n",
              "      <td>1,615.21</td>\n",
              "      <td>13.98</td>\n",
              "    </tr>\n",
              "    <tr>\n",
              "      <th>52</th>\n",
              "      <td>2019-05-01</td>\n",
              "      <td>26.54</td>\n",
              "      <td>23,363.04</td>\n",
              "      <td>325.46</td>\n",
              "      <td>82.65</td>\n",
              "      <td>4,830,713.16</td>\n",
              "      <td>1,615.21</td>\n",
              "      <td>14.07</td>\n",
              "    </tr>\n",
              "    <tr>\n",
              "      <th>53</th>\n",
              "      <td>2019-06-01</td>\n",
              "      <td>25.96</td>\n",
              "      <td>23,352.33</td>\n",
              "      <td>325.51</td>\n",
              "      <td>81.92</td>\n",
              "      <td>4,830,713.16</td>\n",
              "      <td>1,615.21</td>\n",
              "      <td>14.24</td>\n",
              "    </tr>\n",
              "    <tr>\n",
              "      <th>54</th>\n",
              "      <td>2019-07-01</td>\n",
              "      <td>25.55</td>\n",
              "      <td>23,833.07</td>\n",
              "      <td>326.33</td>\n",
              "      <td>85.37</td>\n",
              "      <td>4,957,543.20</td>\n",
              "      <td>1,615.21</td>\n",
              "      <td>13.80</td>\n",
              "    </tr>\n",
              "    <tr>\n",
              "      <th>55</th>\n",
              "      <td>2019-08-01</td>\n",
              "      <td>25.95</td>\n",
              "      <td>23,769.46</td>\n",
              "      <td>326.74</td>\n",
              "      <td>79.01</td>\n",
              "      <td>4,830,713.16</td>\n",
              "      <td>1,615.21</td>\n",
              "      <td>13.90</td>\n",
              "    </tr>\n",
              "    <tr>\n",
              "      <th>56</th>\n",
              "      <td>2019-09-01</td>\n",
              "      <td>26.64</td>\n",
              "      <td>23,680.63</td>\n",
              "      <td>327.62</td>\n",
              "      <td>85.37</td>\n",
              "      <td>4,957,543.20</td>\n",
              "      <td>1,619.34</td>\n",
              "      <td>13.98</td>\n",
              "    </tr>\n",
              "    <tr>\n",
              "      <th>57</th>\n",
              "      <td>2019-10-01</td>\n",
              "      <td>27.44</td>\n",
              "      <td>23,694.88</td>\n",
              "      <td>328.55</td>\n",
              "      <td>110.62</td>\n",
              "      <td>1,615.21</td>\n",
              "      <td>1,615.21</td>\n",
              "      <td>13.99</td>\n",
              "    </tr>\n",
              "    <tr>\n",
              "      <th>58</th>\n",
              "      <td>2019-11-01</td>\n",
              "      <td>27.83</td>\n",
              "      <td>23,682.69</td>\n",
              "      <td>329.48</td>\n",
              "      <td>85.37</td>\n",
              "      <td>4,957,543.20</td>\n",
              "      <td>1,615.21</td>\n",
              "      <td>13.97</td>\n",
              "    </tr>\n",
              "  </tbody>\n",
              "</table>\n",
              "</div>"
            ],
            "text/plain": [
              "         Data  temperatura  Ocupacao  ...  Massa.Renda    Renda  Desemprego\n",
              "49 2019-02-01        27.48 22,966.75  ...     1,615.21 1,615.21       15.20\n",
              "50 2019-03-01        27.51 23,089.94  ...     1,619.34 1,619.34       14.97\n",
              "51 2019-04-01        27.19 23,321.52  ... 4,830,741.06 1,615.21       13.98\n",
              "52 2019-05-01        26.54 23,363.04  ... 4,830,713.16 1,615.21       14.07\n",
              "53 2019-06-01        25.96 23,352.33  ... 4,830,713.16 1,615.21       14.24\n",
              "54 2019-07-01        25.55 23,833.07  ... 4,957,543.20 1,615.21       13.80\n",
              "55 2019-08-01        25.95 23,769.46  ... 4,830,713.16 1,615.21       13.90\n",
              "56 2019-09-01        26.64 23,680.63  ... 4,957,543.20 1,619.34       13.98\n",
              "57 2019-10-01        27.44 23,694.88  ...     1,615.21 1,615.21       13.99\n",
              "58 2019-11-01        27.83 23,682.69  ... 4,957,543.20 1,615.21       13.97\n",
              "\n",
              "[10 rows x 8 columns]"
            ]
          },
          "metadata": {
            "tags": []
          },
          "execution_count": 71
        }
      ]
    },
    {
      "cell_type": "markdown",
      "metadata": {
        "id": "gh43IXvGbjyV",
        "colab_type": "text"
      },
      "source": [
        "\n",
        "\n",
        "---\n",
        "\n",
        "---\n"
      ]
    },
    {
      "cell_type": "markdown",
      "metadata": {
        "id": "zqbsiwttiCQe",
        "colab_type": "text"
      },
      "source": [
        "# Selecão de variáveis"
      ]
    },
    {
      "cell_type": "markdown",
      "metadata": {
        "id": "y_JQc0SWkgFA",
        "colab_type": "text"
      },
      "source": [
        "## Dataset Vendas"
      ]
    },
    {
      "cell_type": "markdown",
      "metadata": {
        "id": "f__Z5prvkxLB",
        "colab_type": "text"
      },
      "source": [
        "> **Features** altamente **correlacionadas** acabam perdendo perdendo relevância na tomada de decisão do modelo, **dificultando a interpretabilidade**. Para calcular a correlação entre as colunas vamos usar o coeficiente de correlação de **Pearson R**, para todas as possíveis combinações de colunas."
      ]
    },
    {
      "cell_type": "code",
      "metadata": {
        "id": "0dZK4vQ9biWR",
        "colab_type": "code",
        "colab": {}
      },
      "source": [
        "num_feat = df_vendas.select_dtypes('number').columns.values\n",
        "comb_num_feat = np.array(list(combinations(num_feat, 2)))\n",
        "corr_num_feat = np.array([])\n",
        "\n",
        "for comb in comb_num_feat:\n",
        "  corr = pearsonr(df_vendas[comb[0]], df_vendas[comb[1]])[0]\n",
        "  corr_num_feat = np.append(corr_num_feat, corr)"
      ],
      "execution_count": 0,
      "outputs": []
    },
    {
      "cell_type": "markdown",
      "metadata": {
        "id": "Znc2LUAhpwu2",
        "colab_type": "text"
      },
      "source": [
        "> Agora vamos analisar os pares de colunas com **correlação acima de |0.9|**\n",
        "\n",
        "*Observações:*\n",
        "\n",
        "\n",
        "1.  *Total*:  Possui alta correlação com todos os outros canais como esperado\n",
        "2.  *Outros*: Também possui alta correlação com os outros canais por ser uma coluna derivada das mesmas (podendo ser descartada futuramente).\n",
        "3.  *O par [\"Month_445\", \"Month_gregoriano\"]*: também está altamente correlacionado por obvio, não fazendo sentido manter ambas, logo iremos **descartar** a coluna **\"Month_445\"** porque foram encontradas algumas inconsistências nessa coluna durante a fase de pré-processamento"
      ]
    },
    {
      "cell_type": "code",
      "metadata": {
        "id": "pNzsMCAibiSa",
        "colab_type": "code",
        "outputId": "68e59fd0-7789-41d5-9c6b-1bcec762b56f",
        "colab": {
          "base_uri": "https://localhost:8080/",
          "height": 170
        }
      },
      "source": [
        "high_corr_num = comb_num_feat[np.abs(corr_num_feat) >= 0.9]\n",
        "high_corr_num"
      ],
      "execution_count": 73,
      "outputs": [
        {
          "output_type": "execute_result",
          "data": {
            "text/plain": [
              "array([['Total', 'ROUTE'],\n",
              "       ['Total', 'INDIRETOS'],\n",
              "       ['Total', 'OUTROS'],\n",
              "       ['ROUTE', 'OUTROS'],\n",
              "       ['INDIRETOS', 'OUTROS'],\n",
              "       ['Month_445', 'Month_gregoriano'],\n",
              "       ['Month_445', 'Week_Year'],\n",
              "       ['Day_gregoriano', 'Week_Month'],\n",
              "       ['Month_gregoriano', 'Week_Year']], dtype='<U16')"
            ]
          },
          "metadata": {
            "tags": []
          },
          "execution_count": 73
        }
      ]
    },
    {
      "cell_type": "markdown",
      "metadata": {
        "id": "m5dQ47Qip5rN",
        "colab_type": "text"
      },
      "source": [
        "> Vemos também que as colunas \"work_day\" e \"weekend\", apresentam quase sempre o mesmo valor, que como vimos na fase de pré-processamento, derivam da coluna \"holidays\", então iremos manter apenas essa última."
      ]
    },
    {
      "cell_type": "code",
      "metadata": {
        "id": "CaE52UFEkJv0",
        "colab_type": "code",
        "outputId": "b8f12b39-c483-4575-9790-ec4ad4fa0a15",
        "colab": {
          "base_uri": "https://localhost:8080/",
          "height": 34
        }
      },
      "source": [
        "wd5 = df_vendas[(df_vendas['work_day']== 5)].shape[0]/df_vendas.shape[0]\n",
        "wk2 = df_vendas[(df_vendas['weekend']== 2)].shape[0]/df_vendas.shape[0]\n",
        "\n",
        "print(f'week_day = 5: {wd5*100:.0f}% || weekend = 2: {wk2*100:.0f}%') "
      ],
      "execution_count": 74,
      "outputs": [
        {
          "output_type": "stream",
          "text": [
            "week_day = 5: 82% || weekend = 2: 96%\n"
          ],
          "name": "stdout"
        }
      ]
    },
    {
      "cell_type": "markdown",
      "metadata": {
        "id": "Z4GcD0eGwfoi",
        "colab_type": "text"
      },
      "source": [
        "Além disso, a coluna \"Data\" possui um formato difícil de ser tratado e já possuímos a coluna \"datetime\" idêntica\", logo também será descartada."
      ]
    },
    {
      "cell_type": "code",
      "metadata": {
        "id": "0qTZxaQ1kJt9",
        "colab_type": "code",
        "colab": {}
      },
      "source": [
        "drop_cols = ['Data', 'Month_445', 'Week_445', 'weekend', 'work_day', 'perc_outros']"
      ],
      "execution_count": 0,
      "outputs": []
    },
    {
      "cell_type": "code",
      "metadata": {
        "id": "DgRQwNY9kJr7",
        "colab_type": "code",
        "colab": {}
      },
      "source": [
        "df_vendas.drop(labels=drop_cols, axis=1, inplace=True)"
      ],
      "execution_count": 0,
      "outputs": []
    },
    {
      "cell_type": "markdown",
      "metadata": {
        "id": "dULM_eCGyaHD",
        "colab_type": "text"
      },
      "source": [
        "## Dataset Macro"
      ]
    },
    {
      "cell_type": "markdown",
      "metadata": {
        "id": "S9StklSu1-mS",
        "colab_type": "text"
      },
      "source": [
        "> Agora vamos repetir o procedimento para o dataset macro"
      ]
    },
    {
      "cell_type": "code",
      "metadata": {
        "id": "h0ENZAMmyd43",
        "colab_type": "code",
        "colab": {}
      },
      "source": [
        "num_feat = df_macro.select_dtypes('number').columns.values\n",
        "comb_num_feat = np.array(list(combinations(num_feat, 2)))\n",
        "corr_num_feat = np.array([])\n",
        "\n",
        "for comb in comb_num_feat:\n",
        "  corr = pearsonr(df_macro[comb[0]], df_macro[comb[1]])[0]\n",
        "  corr_num_feat = np.append(corr_num_feat, corr)"
      ],
      "execution_count": 0,
      "outputs": []
    },
    {
      "cell_type": "markdown",
      "metadata": {
        "id": "71PeTm0f83Nw",
        "colab_type": "text"
      },
      "source": [
        "> Como ja havia sido comentado, as colunas \"*Ocupação*\" e \"*Desemprego*\" estão altamente correlacionadas, e aqui decidimos manter a coluna \"*Desemprego*\", por esta performar melhor no modelo final."
      ]
    },
    {
      "cell_type": "code",
      "metadata": {
        "id": "nq6UBEuZyoGq",
        "colab_type": "code",
        "outputId": "1165a6a9-7cd8-4c5e-b56e-affee185634d",
        "colab": {
          "base_uri": "https://localhost:8080/",
          "height": 34
        }
      },
      "source": [
        "high_corr_num = comb_num_feat[np.abs(corr_num_feat) >= 0.9]\n",
        "high_corr_num"
      ],
      "execution_count": 78,
      "outputs": [
        {
          "output_type": "execute_result",
          "data": {
            "text/plain": [
              "array([['Ocupacao', 'Desemprego']], dtype='<U11')"
            ]
          },
          "metadata": {
            "tags": []
          },
          "execution_count": 78
        }
      ]
    },
    {
      "cell_type": "code",
      "metadata": {
        "id": "DCo_FGWg26uj",
        "colab_type": "code",
        "colab": {}
      },
      "source": [
        "df_macro.drop(labels=['Ocupacao'], axis=1, inplace=True)"
      ],
      "execution_count": 0,
      "outputs": []
    },
    {
      "cell_type": "markdown",
      "metadata": {
        "id": "Ihv7BEdLfhZ7",
        "colab_type": "text"
      },
      "source": [
        "\n",
        "\n",
        "---\n",
        "\n",
        "\n",
        "\n",
        "---\n",
        "\n"
      ]
    },
    {
      "cell_type": "markdown",
      "metadata": {
        "id": "c2PIhs_ujJoQ",
        "colab_type": "text"
      },
      "source": [
        "## Unindo os Datasets"
      ]
    },
    {
      "cell_type": "markdown",
      "metadata": {
        "id": "rYLYuJ_J2eHD",
        "colab_type": "text"
      },
      "source": [
        "> Agora vamos **juntar os 2 datasets** para facilitar a análise. Começamos criando o dataframe semanal fazendo um upsampling da série mensal do df_macro, sempre aos sábados para equiparar ao df_vendas."
      ]
    },
    {
      "cell_type": "code",
      "metadata": {
        "id": "LGiCUFRe5x5W",
        "colab_type": "code",
        "colab": {}
      },
      "source": [
        "monthly_series = pd.date_range(start='2015-01-01',end ='2019-11-01', freq='MS')\n",
        "monthly_series_pd = pd.Series(index=monthly_series)\n",
        "df_macro_weekly = monthly_series_pd.asfreq('W-SAT').to_frame()"
      ],
      "execution_count": 0,
      "outputs": []
    },
    {
      "cell_type": "markdown",
      "metadata": {
        "id": "259wTXaDczQP",
        "colab_type": "text"
      },
      "source": [
        "> Agora iremos popular o novo dataset semanal, \"df_macro_weekly\" com o dataset mensal e preenchendo os valores intermediários com o método 'ffill'.\n",
        "\n"
      ]
    },
    {
      "cell_type": "code",
      "metadata": {
        "id": "6GA-vTvVcy7C",
        "colab_type": "code",
        "colab": {}
      },
      "source": [
        "for col in df_macro.columns[1::]:\n",
        "  monthly_series_pd = pd.Series(data = list(df_macro[col]), index=monthly_series)\n",
        "  df_macro_weekly[col] = monthly_series_pd.asfreq('W-SAT', method='ffill')\n",
        "df_macro_weekly.drop(labels=[0], axis=1, inplace=True)"
      ],
      "execution_count": 0,
      "outputs": []
    },
    {
      "cell_type": "markdown",
      "metadata": {
        "id": "WvSZ1UpEdcwn",
        "colab_type": "text"
      },
      "source": [
        "> Precisamos eliminar os últimos registros do dataset macro, para equiparar o numero de linhas."
      ]
    },
    {
      "cell_type": "code",
      "metadata": {
        "id": "npZrw7IIddpx",
        "colab_type": "code",
        "colab": {}
      },
      "source": [
        "df_macro_weekly_short = df_macro_weekly[df_macro_weekly.index <= '2019-08-17'].reset_index(drop=True)"
      ],
      "execution_count": 0,
      "outputs": []
    },
    {
      "cell_type": "markdown",
      "metadata": {
        "id": "-fi7nZ3qdWKT",
        "colab_type": "text"
      },
      "source": [
        "> Finalmente, iremos **concatenar os 2 datasets**, usando a coluna datetime como índice."
      ]
    },
    {
      "cell_type": "code",
      "metadata": {
        "id": "7ETyD60PitkY",
        "colab_type": "code",
        "colab": {}
      },
      "source": [
        "df = pd.concat([df_vendas, df_macro_weekly_short], axis=1)\n",
        "df = df.set_index('Datetime')"
      ],
      "execution_count": 0,
      "outputs": []
    },
    {
      "cell_type": "markdown",
      "metadata": {
        "id": "OChEGwgSq3rm",
        "colab_type": "text"
      },
      "source": [
        "> Nosso dataset agora possui as mesmas 242 linhas do dataset de vendas, mas agora possui 17 colunas"
      ]
    },
    {
      "cell_type": "code",
      "metadata": {
        "id": "1qJI_jiNq46Q",
        "colab_type": "code",
        "outputId": "ef3bbd15-6fc3-4700-9a2f-b9f98998f6d2",
        "colab": {
          "base_uri": "https://localhost:8080/",
          "height": 34
        }
      },
      "source": [
        "df.shape"
      ],
      "execution_count": 84,
      "outputs": [
        {
          "output_type": "execute_result",
          "data": {
            "text/plain": [
              "(242, 17)"
            ]
          },
          "metadata": {
            "tags": []
          },
          "execution_count": 84
        }
      ]
    },
    {
      "cell_type": "markdown",
      "metadata": {
        "id": "trK_GEAX7N2x",
        "colab_type": "text"
      },
      "source": [
        "## Variáveis adicionais"
      ]
    },
    {
      "cell_type": "markdown",
      "metadata": {
        "colab_type": "text",
        "id": "Y5e3Yo7I7PXM"
      },
      "source": [
        "> Criamos a coluna **next_holiday**, que contabiliza quantas semanas faltam até o próximo feriado, a fim de verificar eventuais aumentos de demanda em algum período pré feriado."
      ]
    },
    {
      "cell_type": "code",
      "metadata": {
        "id": "90gcD9mc7e_n",
        "colab_type": "code",
        "colab": {}
      },
      "source": [
        "#load_library('adjust_datetime', 'libraries/adjust_datetime.py')\n",
        "from adjust_datetime import next_holiday"
      ],
      "execution_count": 0,
      "outputs": []
    },
    {
      "cell_type": "code",
      "metadata": {
        "colab_type": "code",
        "id": "Mg0cjBoD7PXR",
        "colab": {
          "base_uri": "https://localhost:8080/",
          "height": 283
        },
        "outputId": "bb400738-6f87-4c72-8ab4-a8affa422873"
      },
      "source": [
        "df['Next_holiday'] = next_holiday(last_holiday=0)"
      ],
      "execution_count": 46,
      "outputs": [
        {
          "output_type": "error",
          "ename": "NameError",
          "evalue": "ignored",
          "traceback": [
            "\u001b[0;31m---------------------------------------------------------------------------\u001b[0m",
            "\u001b[0;31mNameError\u001b[0m                                 Traceback (most recent call last)",
            "\u001b[0;32m<ipython-input-46-269514344b00>\u001b[0m in \u001b[0;36m<module>\u001b[0;34m()\u001b[0m\n\u001b[0;32m----> 1\u001b[0;31m \u001b[0mdf\u001b[0m\u001b[0;34m[\u001b[0m\u001b[0;34m'Next_holiday'\u001b[0m\u001b[0;34m]\u001b[0m \u001b[0;34m=\u001b[0m \u001b[0mnext_holiday\u001b[0m\u001b[0;34m(\u001b[0m\u001b[0mlast_holiday\u001b[0m\u001b[0;34m=\u001b[0m\u001b[0;36m0\u001b[0m\u001b[0;34m)\u001b[0m\u001b[0;34m\u001b[0m\u001b[0;34m\u001b[0m\u001b[0m\n\u001b[0m",
            "\u001b[0;32m/content/Desafio-Cola-Cola-Sofazao/Datathon_Peta/libraries/adjust_datetime.py\u001b[0m in \u001b[0;36mnext_holiday\u001b[0;34m(last_holiday)\u001b[0m\n\u001b[1;32m     17\u001b[0m \u001b[0;34m\u001b[0m\u001b[0m\n\u001b[1;32m     18\u001b[0m \u001b[0;32mdef\u001b[0m \u001b[0mnext_holiday\u001b[0m\u001b[0;34m(\u001b[0m\u001b[0mlast_holiday\u001b[0m\u001b[0;34m)\u001b[0m\u001b[0;34m:\u001b[0m \u001b[0;31m#cagado, enfiar uma lista de feriados\u001b[0m\u001b[0;34m\u001b[0m\u001b[0;34m\u001b[0m\u001b[0m\n\u001b[0;32m---> 19\u001b[0;31m         \u001b[0mholidays\u001b[0m\u001b[0;34m=\u001b[0m \u001b[0mdf\u001b[0m\u001b[0;34m[\u001b[0m\u001b[0mdf\u001b[0m\u001b[0;34m.\u001b[0m\u001b[0mholidays\u001b[0m \u001b[0;34m>\u001b[0m \u001b[0;36m0\u001b[0m \u001b[0;34m]\u001b[0m\u001b[0;34m.\u001b[0m\u001b[0mindex\u001b[0m\u001b[0;34m\u001b[0m\u001b[0;34m\u001b[0m\u001b[0m\n\u001b[0m\u001b[1;32m     20\u001b[0m         \u001b[0mlast_holiday\u001b[0m \u001b[0;34m=\u001b[0m  \u001b[0mpd\u001b[0m\u001b[0;34m.\u001b[0m\u001b[0mto_datetime\u001b[0m\u001b[0;34m(\u001b[0m\u001b[0;34m'2019-09-08'\u001b[0m\u001b[0;34m,\u001b[0m \u001b[0mformat\u001b[0m\u001b[0;34m=\u001b[0m\u001b[0;34m'%Y/%m/%d'\u001b[0m\u001b[0;34m)\u001b[0m \u001b[0;31m#1o feriado após a série histórica\u001b[0m\u001b[0;34m\u001b[0m\u001b[0;34m\u001b[0m\u001b[0m\n\u001b[1;32m     21\u001b[0m         \u001b[0mholidays_list\u001b[0m \u001b[0;34m=\u001b[0m \u001b[0mholidays\u001b[0m\u001b[0;34m.\u001b[0m\u001b[0mto_list\u001b[0m\u001b[0;34m(\u001b[0m\u001b[0;34m)\u001b[0m\u001b[0;34m\u001b[0m\u001b[0;34m\u001b[0m\u001b[0m\n",
            "\u001b[0;31mNameError\u001b[0m: name 'df' is not defined"
          ]
        }
      ]
    },
    {
      "cell_type": "markdown",
      "metadata": {
        "id": "YacEGUhIev3u",
        "colab_type": "text"
      },
      "source": [
        "\n",
        "\n",
        "---\n",
        "\n",
        "\n",
        "\n",
        "---\n",
        "\n"
      ]
    },
    {
      "cell_type": "markdown",
      "metadata": {
        "id": "7hppxY-s7trT",
        "colab_type": "text"
      },
      "source": [
        "# Analise Exploratória"
      ]
    },
    {
      "cell_type": "markdown",
      "metadata": {
        "id": "GpQTmwpTiYiq",
        "colab_type": "text"
      },
      "source": [
        "> Nessa seção vamos analisar o comportamento do volume de vendas, para os diferentes canais variando a escala temporal em busca de padrões de comportamento."
      ]
    },
    {
      "cell_type": "markdown",
      "metadata": {
        "id": "6Gx9B0dJfF8z",
        "colab_type": "text"
      },
      "source": [
        "**Graf.1 (esquerda):** O volume total de vendas ano a ano, tem um comportamento muito similar no decorrer de cada semana do ano, é possível perceber também que há uma leve tendência de queda no meio do ano (período de invervo, como o esperado), e uma forte alta nas últimas semanas do ano, além de alguns picos com frequência aparentemente mensal.\n",
        "\n",
        "**Graf.2 (direita):** Chama bastante atenção uma queda de aproximadamente 30% no valor da mediana do total de vendas de 2015, para 2018, contudo essa tendência de queda já se mostra mais suave entre 2017 e 2019."
      ]
    },
    {
      "cell_type": "code",
      "metadata": {
        "id": "4qxK0jFqglZs",
        "colab_type": "code",
        "colab": {}
      },
      "source": [
        "data = plot_var(df=df, y_axis='Total', stack='Year', x_axis1='Week_Year', x_axis2='Year', agg='Sum')"
      ],
      "execution_count": 0,
      "outputs": []
    },
    {
      "cell_type": "markdown",
      "metadata": {
        "id": "j4NK9Fvoh35D",
        "colab_type": "text"
      },
      "source": [
        "> Considerando essa mesma análise individual por canal, não houve nada muito diferente do padrão observado acima, a se destacar apenas que o volume de vendas para \"SM\" nesse período se manteve estável, contrariando a tendência de queda dos outros canais. "
      ]
    },
    {
      "cell_type": "markdown",
      "metadata": {
        "id": "UEmb2-cviUxL",
        "colab_type": "text"
      },
      "source": [
        "\n",
        "\n",
        "---\n",
        "\n",
        "\n",
        "\n",
        "---\n",
        "\n"
      ]
    },
    {
      "cell_type": "markdown",
      "metadata": {
        "id": "0Up5eOcitEXq",
        "colab_type": "text"
      },
      "source": [
        "**Graf.1 (esquerda):** O volume de vendas indiretas possui uma tendência de **alta** muito forte próxima ao **fim do mês**, o que é totalmente aceitável, visto que esse canal representa **revendedoras** e distribuidoras. Essa tendência também pode ser vista de forma mais suave no canal SM.\n",
        "\n",
        "\n",
        "**Graf.2 (direita):** Podemos ver que o volume de **vendas mensal** é bastante **estável** no decorrer do ano, observando-se apenas um **aumento** expressivo para os **2 últimos meses do ano**, tendência que se repete em todos os canais."
      ]
    },
    {
      "cell_type": "code",
      "metadata": {
        "id": "2K5n2m-sQr3Y",
        "colab_type": "code",
        "colab": {}
      },
      "source": [
        "data = plot_var(df=df, y_axis='INDIRETOS', stack = 'Year', x_axis1='Day_gregoriano', x_axis2='Month_gregoriano', agg='Mean')"
      ],
      "execution_count": 0,
      "outputs": []
    },
    {
      "cell_type": "markdown",
      "metadata": {
        "id": "GV5keYQJVPjj",
        "colab_type": "text"
      },
      "source": [
        "\n",
        "\n",
        "---\n",
        "\n",
        "\n",
        "\n",
        "---\n",
        "\n"
      ]
    },
    {
      "cell_type": "markdown",
      "metadata": {
        "id": "9VZ8m9gxo7hz",
        "colab_type": "text"
      },
      "source": [
        "**Graf. 1 (esquerda):** Com esses dois gráficos usando a coluna **Next_holiday** no eixo das abcissas, podemos observar que há um **leve aumento** de vendas em **Supermercados**, em semanas próximas a feriados, indicando uma possível **antecipação** desses agentes.\n",
        "\n",
        "**Graf.2 (direita):** O boxplot nos permite ver a mesma tendência do gráfico anterior, contudo podemos ver que para as colunas 0, 1 e 2 há uma grande presença de **outliers**."
      ]
    },
    {
      "cell_type": "code",
      "metadata": {
        "id": "4Wvq7awUoERj",
        "colab_type": "code",
        "colab": {}
      },
      "source": [
        "data = plot_var(df=df, y_axis='SM', stack = 'Year', x_axis1='Next_holiday', x_axis2='Next_holiday', agg='Mean')\n"
      ],
      "execution_count": 0,
      "outputs": []
    },
    {
      "cell_type": "markdown",
      "metadata": {
        "id": "tAC6a2rb0xm1",
        "colab_type": "text"
      },
      "source": [
        "\n",
        "\n",
        "---\n",
        "\n",
        "\n",
        "\n",
        "---\n",
        "\n"
      ]
    },
    {
      "cell_type": "markdown",
      "metadata": {
        "id": "SRJy8ZH3lulP",
        "colab_type": "text"
      },
      "source": [
        "##Feature Eng"
      ]
    },
    {
      "cell_type": "code",
      "metadata": {
        "id": "IFWDI0ej1FgN",
        "colab_type": "code",
        "outputId": "e5f5a97e-c406-499e-d95f-1938fa9d918d",
        "colab": {
          "base_uri": "https://localhost:8080/",
          "height": 198
        }
      },
      "source": [
        "df['MA']=pd.rolling_mean(df['Total'], window=5)\n",
        "\n",
        "df['MA'] = df['Total'].rolling(window=5,center=False).mean()"
      ],
      "execution_count": 0,
      "outputs": [
        {
          "output_type": "error",
          "ename": "AttributeError",
          "evalue": "ignored",
          "traceback": [
            "\u001b[0;31m---------------------------------------------------------------------------\u001b[0m",
            "\u001b[0;31mAttributeError\u001b[0m                            Traceback (most recent call last)",
            "\u001b[0;32m<ipython-input-54-2d1801a2f6ed>\u001b[0m in \u001b[0;36m<module>\u001b[0;34m()\u001b[0m\n\u001b[0;32m----> 1\u001b[0;31m \u001b[0mdf\u001b[0m\u001b[0;34m[\u001b[0m\u001b[0;34m'MA'\u001b[0m\u001b[0;34m]\u001b[0m\u001b[0;34m=\u001b[0m\u001b[0mpd\u001b[0m\u001b[0;34m.\u001b[0m\u001b[0mrolling_mean\u001b[0m\u001b[0;34m(\u001b[0m\u001b[0mdf\u001b[0m\u001b[0;34m[\u001b[0m\u001b[0;34m'Total'\u001b[0m\u001b[0;34m]\u001b[0m\u001b[0;34m,\u001b[0m \u001b[0mwindow\u001b[0m\u001b[0;34m=\u001b[0m\u001b[0;36m5\u001b[0m\u001b[0;34m)\u001b[0m\u001b[0;34m\u001b[0m\u001b[0;34m\u001b[0m\u001b[0m\n\u001b[0m\u001b[1;32m      2\u001b[0m \u001b[0;34m\u001b[0m\u001b[0m\n\u001b[1;32m      3\u001b[0m \u001b[0mdf\u001b[0m\u001b[0;34m[\u001b[0m\u001b[0;34m'MA'\u001b[0m\u001b[0;34m]\u001b[0m \u001b[0;34m=\u001b[0m \u001b[0mdf\u001b[0m\u001b[0;34m[\u001b[0m\u001b[0;34m'Total'\u001b[0m\u001b[0;34m]\u001b[0m\u001b[0;34m.\u001b[0m\u001b[0mrolling\u001b[0m\u001b[0;34m(\u001b[0m\u001b[0mwindow\u001b[0m\u001b[0;34m=\u001b[0m\u001b[0;36m5\u001b[0m\u001b[0;34m,\u001b[0m\u001b[0mcenter\u001b[0m\u001b[0;34m=\u001b[0m\u001b[0;32mFalse\u001b[0m\u001b[0;34m)\u001b[0m\u001b[0;34m.\u001b[0m\u001b[0mmean\u001b[0m\u001b[0;34m(\u001b[0m\u001b[0;34m)\u001b[0m\u001b[0;34m\u001b[0m\u001b[0;34m\u001b[0m\u001b[0m\n",
            "\u001b[0;31mAttributeError\u001b[0m: module 'pandas' has no attribute 'rolling_mean'"
          ]
        }
      ]
    },
    {
      "cell_type": "code",
      "metadata": {
        "id": "tq13wFBSzUjg",
        "colab_type": "code",
        "colab": {}
      },
      "source": [
        "from statsmodels.tsa.stattools import adfuller\n",
        "def test_stationarity(timeseries):\n",
        "    \n",
        "    #Determing rolling statistics\n",
        "    rolmean = timeseries.rolling(window=12).mean()\n",
        "    rolstd = timeseries.rolling(window=12).std()\n",
        "\n",
        "    #Plot rolling statistics:\n",
        "    orig = plt.plot(timeseries, color='blue',label='Original')\n",
        "    mean = plt.plot(rolmean, color='red', label='Rolling Mean')\n",
        "    std = plt.plot(rolstd, color='black', label = 'Rolling Std')\n",
        "    plt.legend(loc='best')\n",
        "    plt.title('Rolling Mean & Standard Deviation')\n",
        "    plt.show(block=False)\n",
        "    \n",
        "    #Perform Dickey-Fuller test:\n",
        "    print ('Results of Dickey-Fuller Test:')\n",
        "    dftest = adfuller(timeseries, autolag='AIC')\n",
        "    dfoutput = pd.Series(dftest[0:4], index=['Test Statistic','p-value','#Lags Used','Number of Observations Used'])\n",
        "    for key,value in dftest[4].items():\n",
        "        dfoutput['Critical Value (%s)'%key] = value\n",
        "    print (dfoutput)\n",
        "\n",
        "\n",
        "test_stationarity(df['SM'])"
      ],
      "execution_count": 0,
      "outputs": []
    },
    {
      "cell_type": "code",
      "metadata": {
        "id": "ISY6n-Sclzwi",
        "colab_type": "code",
        "colab": {}
      },
      "source": [
        "import pandas as pd\n",
        "plt.plot(df['INDIRETOS'].diff())"
      ],
      "execution_count": 0,
      "outputs": []
    },
    {
      "cell_type": "code",
      "metadata": {
        "id": "yBuHyynplzsx",
        "colab_type": "code",
        "colab": {}
      },
      "source": [
        "df.shape"
      ],
      "execution_count": 0,
      "outputs": []
    },
    {
      "cell_type": "code",
      "metadata": {
        "id": "_2t8bnbP8VSs",
        "colab_type": "code",
        "colab": {}
      },
      "source": [
        "diff = df['INDIRETOS'].diff()\n",
        "md = []\n",
        "for t in df.index:\n",
        "  md.append(diff[diff.index > t].mean())\n",
        "  print(t, diff[diff.index > t].mean())\n",
        "\n",
        "plt.plot(md[0:-40])"
      ],
      "execution_count": 0,
      "outputs": []
    },
    {
      "cell_type": "code",
      "metadata": {
        "id": "AInT8F988U_K",
        "colab_type": "code",
        "colab": {}
      },
      "source": [
        "setup_graphics()\n",
        "from random import seed\n",
        "from random import random\n",
        "from matplotlib import pyplot\n",
        "from pandas.plotting import autocorrelation_plot\n",
        "seed(1)\n",
        "random_walk = list()\n",
        "random_walk.append(-1 if random() < 0.5 else 1)\n",
        "\n",
        "for i in range(1, 1000):\n",
        "\tmovement = -1 if random() < 0.5 else 1\n",
        "\tvalue = random_walk[i-1] + movement\n",
        "\trandom_walk.append(value)\n",
        " \n",
        "autocorrelation_plot(df['Total'])\n",
        "pyplot.show()"
      ],
      "execution_count": 0,
      "outputs": []
    },
    {
      "cell_type": "code",
      "metadata": {
        "id": "5by0xPpJh5-u",
        "colab_type": "code",
        "colab": {}
      },
      "source": [
        "df.columns"
      ],
      "execution_count": 0,
      "outputs": []
    },
    {
      "cell_type": "code",
      "metadata": {
        "id": "84dX4q9VhjqG",
        "colab_type": "code",
        "colab": {}
      },
      "source": [
        "df['diff'] = df.Total.diff()\n",
        "\n",
        "autocorrelation_plot(df['Next_holiday'])\n",
        "pyplot.show()"
      ],
      "execution_count": 0,
      "outputs": []
    },
    {
      "cell_type": "code",
      "metadata": {
        "id": "h23jh8ORb3pU",
        "colab_type": "code",
        "colab": {}
      },
      "source": [
        "from random import seed\n",
        "from random import random\n",
        "from statsmodels.tsa.stattools import adfuller\n",
        "# generate random walk\n",
        "seed(1)\n",
        "random_walk = list()\n",
        "random_walk.append(-1 if random() < 0.5 else 1)\n",
        "for i in range(1, 1000):\n",
        "\tmovement = -1 if random() < 0.5 else 1\n",
        "\tvalue = random_walk[i-1] + movement\n",
        "\trandom_walk.append(value)\n",
        "# statistical test\n",
        "result = adfuller(random_walk)\n",
        "print('ADF Statistic: %f' % result[0])\n",
        "print('p-value: %f' % result[1])\n",
        "print('Critical Values:')\n",
        "for key, value in result[4].items():\n",
        "\tprint('\\t%s: %.3f' % (key, value))"
      ],
      "execution_count": 0,
      "outputs": []
    },
    {
      "cell_type": "code",
      "metadata": {
        "id": "TRkFrZzBpXy0",
        "colab_type": "code",
        "colab": {}
      },
      "source": [
        "series = df[df.index > \"2016-01-01\"]\n",
        "series['SM']"
      ],
      "execution_count": 0,
      "outputs": []
    },
    {
      "cell_type": "code",
      "metadata": {
        "id": "m9MIjCtJb3mF",
        "colab_type": "code",
        "outputId": "e4599872-1c79-47aa-85ef-f1aafb043e9f",
        "colab": {
          "base_uri": "https://localhost:8080/",
          "height": 432
        }
      },
      "source": [
        "setup_graphics()\n",
        "from random import randrange\n",
        "from pandas import Series\n",
        "from matplotlib import pyplot\n",
        "from statsmodels.tsa.seasonal import seasonal_decompose\n",
        "series = df#[df.index > \"2016-01-01\"]   #[i+randrange(10) for i in range(1,100)]\n",
        "series = series['ROUTE']\n",
        "result = seasonal_decompose(series, model='multiplicative', freq=1)\n",
        "result.plot()\n",
        "pyplot.show()"
      ],
      "execution_count": 0,
      "outputs": [
        {
          "output_type": "display_data",
          "data": {
            "image/png": "[encoded data removed]",
            "text/plain": [
              "<Figure size 720x432 with 4 Axes>"
            ]
          },
          "metadata": {
            "tags": []
          }
        }
      ]
    },
    {
      "cell_type": "code",
      "metadata": {
        "id": "HVlMRL4xb3hl",
        "colab_type": "code",
        "outputId": "2426c39e-d45e-4421-9ef7-fde3d06914a9",
        "colab": {
          "base_uri": "https://localhost:8080/",
          "height": 153
        }
      },
      "source": [
        "series.index"
      ],
      "execution_count": 0,
      "outputs": [
        {
          "output_type": "execute_result",
          "data": {
            "text/plain": [
              "DatetimeIndex(['2016-01-09', '2016-01-16', '2016-01-23', '2016-01-30',\n",
              "               '2016-02-06', '2016-02-13', '2016-02-20', '2016-02-27',\n",
              "               '2016-03-05', '2016-03-12',\n",
              "               ...\n",
              "               '2019-06-15', '2019-06-22', '2019-06-29', '2019-07-06',\n",
              "               '2019-07-13', '2019-07-20', '2019-07-27', '2019-08-03',\n",
              "               '2019-08-10', '2019-08-17'],\n",
              "              dtype='datetime64[ns]', name='Datetime', length=189, freq=None)"
            ]
          },
          "metadata": {
            "tags": []
          },
          "execution_count": 77
        }
      ]
    },
    {
      "cell_type": "code",
      "metadata": {
        "id": "jm3VH1ZRb3d6",
        "colab_type": "code",
        "outputId": "ff77d39c-6760-4259-a815-5ad4073e3181",
        "colab": {
          "base_uri": "https://localhost:8080/",
          "height": 34
        }
      },
      "source": [
        "type(series)"
      ],
      "execution_count": 0,
      "outputs": [
        {
          "output_type": "execute_result",
          "data": {
            "text/plain": [
              "pandas.core.series.Series"
            ]
          },
          "metadata": {
            "tags": []
          },
          "execution_count": 78
        }
      ]
    },
    {
      "cell_type": "code",
      "metadata": {
        "id": "mDLDBurnb3aT",
        "colab_type": "code",
        "colab": {}
      },
      "source": [
        ""
      ],
      "execution_count": 0,
      "outputs": []
    },
    {
      "cell_type": "markdown",
      "metadata": {
        "id": "3P09g5nRpZyp",
        "colab_type": "text"
      },
      "source": [
        "# Guideline"
      ]
    },
    {
      "cell_type": "markdown",
      "metadata": {
        "id": "_OyvOco10AFy",
        "colab_type": "text"
      },
      "source": [
        "Previo:\n",
        "1. Rever oq já esta feito (+encaixar testes estacionariedade)\n",
        "2. montar scprts pre proc (quais colunas manter)\n",
        "3. ver como importar .py (ok)\n",
        "4. montar arquitetura (classes, especialmente pre proc e baseline)\n",
        "5. funcao pra difference e inverse_difference"
      ]
    },
    {
      "cell_type": "markdown",
      "metadata": {
        "id": "RUzfmB6EyOyf",
        "colab_type": "text"
      },
      "source": [
        "Testes previos de estacionariedade (+ decompose):\n",
        "1. fazer um lineplot dos canais(y), no tempo (x), e quebra por ano (onde tem esse plot? tem no 16 e champagne), \n",
        "2. checando estacionariedade: histograma do target (+density plot), med e std anual, boxplots e Ad fuller\n",
        "3. Decomposicao [y(t) = Level + Trend + Seasonality + Noise], no livro tem um test harness completo disso (verificar quais q tem? ou fz o teste)\n",
        "4. tirar sazonalidade polyfit() para tirar ambas, ordem 4 ou 5 ou fourier transform\n",
        "5. Power trans agora?\n",
        "6. Decidir quais colunas ficam (add no script)\n",
        "\n",
        "Links:\n",
        "\n",
        "https://machinelearningmastery.com/decompose-time-series-data-trend-seasonality/ (decomposicao graficos)\n",
        "\n",
        "https://www.analyticsvidhya.com/blog/2016/02/time-series-forecasting-codes-python/?# (decompose)\n",
        "\n",
        "https://machinelearningmastery.com/time-series-seasonality-with-python/ (polyfit)\n",
        "\n",
        "https://machinelearningmastery.com/time-series-data-stationary-python/ (estacionariedade e AD fuller)\n",
        "\n",
        "https://machinelearningmastery.com/time-series-forecast-study-python-monthly-sales-french-champagne/ (case champagne)"
      ]
    },
    {
      "cell_type": "markdown",
      "metadata": {
        "id": "Eo80DwdW5OOS",
        "colab_type": "text"
      },
      "source": [
        "\n",
        "\n",
        "---\n",
        "\n",
        "\n",
        "\n",
        "---\n",
        "\n"
      ]
    },
    {
      "cell_type": "markdown",
      "metadata": {
        "id": "fFW1dkePyOPA",
        "colab_type": "text"
      },
      "source": [
        "Baseline\n",
        "\n",
        "1. criar base de teste de modelos (MLM)\n",
        "2. Tamanho do histórico (sliding window) (ver se tem no harness do livro) \n",
        "3. test strategy (champa)\n",
        "4. univ e multiv // multistep 10 semanas (MAPE e RMSLE) (recursivo, direto?)\n",
        "5. 5 passos\n",
        "\n",
        "Links: https://machinelearningmastery.com/simple-time-series-forecasting-models/ (ex test suite nao integrado)\n",
        "\n",
        "https://machinelearningmastery.com/persistence-time-series-forecasting-with-python/(5 passos)\n",
        "\n",
        "https://machinelearningmastery.com/multi-step-time-series-forecasting/ (tipos de multi-step, recursivo, direto)"
      ]
    },
    {
      "cell_type": "markdown",
      "metadata": {
        "id": "TNHhH9uhxG1M",
        "colab_type": "text"
      },
      "source": [
        "Engenharia de features (testando sobre o baseline):\n",
        "1. variaveis temporais Sem_Ano\n",
        "2. diff(t1), MM(t4), diff_lag(1,2), sazonais, #(tirar sazonalidade polyfit() para tirar ambas, ordem 4 ou 5) ou fourier transform\n",
        "3. testar os t, iterativamente Recursive Feature Selection (RFE). (diz quais os melhores lags)\n",
        "4. _dpreco p/ outras series c/ pivot (melt desfaz)\n",
        "5. Expanding Window Statistics (entra no harness?)\n",
        "6. power transform do target, box-cox transform (log1p) (MLM TS)\n",
        "7. feature selection\n",
        "8. teste wilcox\n",
        "\n",
        "Links:\n",
        "\n",
        "https://machinelearningmastery.com/power-transform-time-series-forecast-data-python/ (box-cox)\n",
        "\n",
        "https://machinelearningmastery.com/feature-selection-time-series-forecasting-python/ (RFE e random forest)\n",
        "\n",
        "https://machinelearningmastery.com/basic-feature-engineering-time-series-data-python/ (expanding window)\n",
        "\n",
        " https://machinelearningmastery.com/time-series-forecast-study-python-monthly-sales-french-champagne/ (champa, passa todos e salva)\n",
        "\n"
      ]
    },
    {
      "cell_type": "markdown",
      "metadata": {
        "id": "r4MCax_R5ROP",
        "colab_type": "text"
      },
      "source": [
        "\n",
        "\n",
        "---\n",
        "\n",
        "\n",
        "\n",
        "---\n",
        "\n"
      ]
    },
    {
      "cell_type": "markdown",
      "metadata": {
        "id": "qASM0xfq1SMQ",
        "colab_type": "text"
      },
      "source": [
        "Modelos TS/ML:\n",
        "1. Seguir o guia das familias de modelos\n",
        "2. Montar o Pipeline ML #MinMaxScaler or StandardScaler (scikit)\n",
        "3. Montar o test harness dessa etapa (backtest)\n",
        "4. RF (config mario), LGBM (+NN), XGB(shap) [fig(20,7)], \n",
        "5. rmsle, med por canal\n",
        "6. Ver gráficos de avaliacao + scatter do erro (Vid5)\n",
        "7. ver se erro residual é gaussiano\n",
        "8. Salvar e recuperar modelos para teste final\n",
        " \n",
        "\n",
        " Links:\n",
        "\n",
        " https://machinelearningmastery.com/normalize-standardize-time-series-data-python/ (normalize)\n",
        "\n",
        " https://machinelearningmastery.com/make-predictions-time-series-forecasting-python/ (finalizar e salvar)\n",
        "\n",
        " https://machinelearningmastery.com/time-series-forecast-study-python-monthly-sales-french-champagne/ (champa, passa todos e salva)\n",
        "\n",
        "https://machinelearningmastery.com/how-to-develop-a-skilful-time-series-forecasting-model/ (familia de modelos)"
      ]
    },
    {
      "cell_type": "markdown",
      "metadata": {
        "id": "KxBtl1UM4nym",
        "colab_type": "text"
      },
      "source": [
        "DL e afins"
      ]
    },
    {
      "cell_type": "markdown",
      "metadata": {
        "id": "4Y4A_riy4nsU",
        "colab_type": "text"
      },
      "source": [
        ""
      ]
    },
    {
      "cell_type": "markdown",
      "metadata": {
        "id": "osLkTGtP4nk5",
        "colab_type": "text"
      },
      "source": [
        ""
      ]
    },
    {
      "cell_type": "markdown",
      "metadata": {
        "id": "4Z0BVP7Zz1XW",
        "colab_type": "text"
      },
      "source": [
        ""
      ]
    },
    {
      "cell_type": "code",
      "metadata": {
        "id": "KYxw5twOuY9I",
        "colab_type": "code",
        "colab": {}
      },
      "source": [
        "!pip install ipython-autotime\n",
        "%load_ext autotime"
      ],
      "execution_count": 0,
      "outputs": []
    },
    {
      "cell_type": "code",
      "metadata": {
        "id": "Sop9LODUwjhp",
        "colab_type": "code",
        "colab": {}
      },
      "source": [
        ""
      ],
      "execution_count": 0,
      "outputs": []
    },
    {
      "cell_type": "code",
      "metadata": {
        "id": "D5TLjXY9wjbu",
        "colab_type": "code",
        "colab": {}
      },
      "source": [
        ""
      ],
      "execution_count": 0,
      "outputs": []
    },
    {
      "cell_type": "code",
      "metadata": {
        "id": "z9BcsL7ruYzp",
        "colab_type": "code",
        "colab": {}
      },
      "source": [
        ""
      ],
      "execution_count": 0,
      "outputs": []
    },
    {
      "cell_type": "code",
      "metadata": {
        "id": "FhDOC-lgwOsn",
        "colab_type": "code",
        "colab": {}
      },
      "source": [
        ""
      ],
      "execution_count": 0,
      "outputs": []
    },
    {
      "cell_type": "code",
      "metadata": {
        "id": "SxcubA6nwOeh",
        "colab_type": "code",
        "colab": {}
      },
      "source": [
        ""
      ],
      "execution_count": 0,
      "outputs": []
    },
    {
      "cell_type": "markdown",
      "metadata": {
        "id": "HG-GgMVFwLhj",
        "colab_type": "text"
      },
      "source": [
        "\n",
        "\n",
        "---\n",
        "\n",
        "\n",
        "\n",
        "---\n",
        "\n"
      ]
    },
    {
      "cell_type": "markdown",
      "metadata": {
        "id": "ZtQls7YTi134",
        "colab_type": "text"
      },
      "source": [
        "# Rascunho series temporais"
      ]
    },
    {
      "cell_type": "code",
      "metadata": {
        "id": "PL3zvjZ-Bn30",
        "colab_type": "code",
        "colab": {
          "base_uri": "https://localhost:8080/",
          "height": 232
        },
        "outputId": "cf24e754-4ed3-458f-ac87-e616459f4b27"
      },
      "source": [
        "from statsmodels.tsa.seasonal import seasonal_decompose\n",
        "decomposition = seasonal_decompose(ts_log)\n",
        "\n",
        "trend = decomposition.trend\n",
        "seasonal = decomposition.seasonal\n",
        "residual = decomposition.resid\n",
        "\n",
        "plt.subplot(411)\n",
        "plt.plot(ts_log, label='Original')\n",
        "plt.legend(loc='best')\n",
        "plt.subplot(412)\n",
        "plt.plot(trend, label='Trend')\n",
        "plt.legend(loc='best')\n",
        "plt.subplot(413)\n",
        "plt.plot(seasonal,label='Seasonality')\n",
        "plt.legend(loc='best')\n",
        "plt.subplot(414)\n",
        "plt.plot(residual, label='Residuals')\n",
        "plt.legend(loc='best')\n",
        "plt.tight_layout()"
      ],
      "execution_count": 1,
      "outputs": [
        {
          "output_type": "error",
          "ename": "NameError",
          "evalue": "ignored",
          "traceback": [
            "\u001b[0;31m---------------------------------------------------------------------------\u001b[0m",
            "\u001b[0;31mNameError\u001b[0m                                 Traceback (most recent call last)",
            "\u001b[0;32m<ipython-input-1-7ca5a90bdbf8>\u001b[0m in \u001b[0;36m<module>\u001b[0;34m()\u001b[0m\n\u001b[1;32m      1\u001b[0m \u001b[0;32mfrom\u001b[0m \u001b[0mstatsmodels\u001b[0m\u001b[0;34m.\u001b[0m\u001b[0mtsa\u001b[0m\u001b[0;34m.\u001b[0m\u001b[0mseasonal\u001b[0m \u001b[0;32mimport\u001b[0m \u001b[0mseasonal_decompose\u001b[0m\u001b[0;34m\u001b[0m\u001b[0;34m\u001b[0m\u001b[0m\n\u001b[0;32m----> 2\u001b[0;31m \u001b[0mdecomposition\u001b[0m \u001b[0;34m=\u001b[0m \u001b[0mseasonal_decompose\u001b[0m\u001b[0;34m(\u001b[0m\u001b[0mts_log\u001b[0m\u001b[0;34m)\u001b[0m\u001b[0;34m\u001b[0m\u001b[0;34m\u001b[0m\u001b[0m\n\u001b[0m\u001b[1;32m      3\u001b[0m \u001b[0;34m\u001b[0m\u001b[0m\n\u001b[1;32m      4\u001b[0m \u001b[0mtrend\u001b[0m \u001b[0;34m=\u001b[0m \u001b[0mdecomposition\u001b[0m\u001b[0;34m.\u001b[0m\u001b[0mtrend\u001b[0m\u001b[0;34m\u001b[0m\u001b[0;34m\u001b[0m\u001b[0m\n\u001b[1;32m      5\u001b[0m \u001b[0mseasonal\u001b[0m \u001b[0;34m=\u001b[0m \u001b[0mdecomposition\u001b[0m\u001b[0;34m.\u001b[0m\u001b[0mseasonal\u001b[0m\u001b[0;34m\u001b[0m\u001b[0;34m\u001b[0m\u001b[0m\n",
            "\u001b[0;31mNameError\u001b[0m: name 'ts_log' is not defined"
          ]
        }
      ]
    },
    {
      "cell_type": "code",
      "metadata": {
        "id": "SFK9dOrdFiGB",
        "colab_type": "code",
        "colab": {}
      },
      "source": [
        "# Set start and end dates\n",
        "start = '2016-1-1'\n",
        "end = '2016-2-29'\n",
        "\n",
        "# Create monthly_dates here\n",
        "monthly_dates = pd.date_range(start=start, end=end, freq='M')\n",
        "\n",
        "# Create monthly here\n",
        "monthly = pd.Series(data=[1,2], index=monthly_dates)\n",
        "print(monthly)\n",
        "\n",
        "# Create weekly_dates here\n",
        "weekly_dates = pd.date_range(start=start, end=end, freq='W')\n",
        "\n",
        "# Print monthly, reindexed using weekly_dates\n",
        "print(monthly.reindex(weekly_dates))\n",
        "print(monthly.reindex(weekly_dates, method='bfill'))\n",
        "print(monthly.reindex(weekly_dates, method='ffill'))"
      ],
      "execution_count": 0,
      "outputs": []
    },
    {
      "cell_type": "code",
      "metadata": {
        "id": "8PYMJB7lFiCT",
        "colab_type": "code",
        "colab": {}
      },
      "source": [
        "# Import data here\n",
        "data = pd.read_csv('unemployment.csv', parse_dates=['date'], index_col='date')\n",
        "\n",
        "# Show first five rows of weekly series\n",
        "print(data.asfreq('W').head())\n",
        "\n",
        "# Show first five rows of weekly series with bfill option\n",
        "print(data.asfreq('W', method='bfill').head())\n",
        "\n",
        "# Create weekly series with ffill option and show first five rows\n",
        "weekly_ffill = data.asfreq('W', method='ffill')\n",
        "print(weekly_ffill.head())\n",
        "\n",
        "# Plot weekly_fill starting 2015 here \n",
        "weekly_ffill.loc['2015':].plot()\n",
        "plt.show()"
      ],
      "execution_count": 0,
      "outputs": []
    },
    {
      "cell_type": "code",
      "metadata": {
        "id": "TybwVOtLM9mQ",
        "colab_type": "code",
        "colab": {}
      },
      "source": [
        "macro_monthly = pd.date_range(start='2015-01-01',end ='2019-11-01', freq='MS')\n",
        "macro_monthly_ts_pd = pd.Series(index=macro_monthly)"
      ],
      "execution_count": 0,
      "outputs": []
    },
    {
      "cell_type": "code",
      "metadata": {
        "id": "LJBltRvRZ_6M",
        "colab_type": "code",
        "colab": {}
      },
      "source": [
        "macro_monthly_ts_pd.asfreq('W-SAT')"
      ],
      "execution_count": 0,
      "outputs": []
    },
    {
      "cell_type": "code",
      "metadata": {
        "id": "_XxysvdkYjzv",
        "colab_type": "code",
        "colab": {}
      },
      "source": [
        "macro_weekly = macro_monthly_ts_pd.asfreq('W-SAT').to_frame()\n",
        "#macro_weekly = macro_weekly.to_frame()\n",
        "macro_weekly"
      ],
      "execution_count": 0,
      "outputs": []
    },
    {
      "cell_type": "markdown",
      "metadata": {
        "id": "8gCC5Dl5FfCp",
        "colab_type": "text"
      },
      "source": [
        "\n",
        "\n",
        "---\n",
        "\n",
        "\n",
        "\n",
        "---\n",
        "\n"
      ]
    },
    {
      "cell_type": "code",
      "metadata": {
        "id": "n5O3RnX_TIz7",
        "colab_type": "code",
        "colab": {
          "base_uri": "https://localhost:8080/",
          "height": 34
        },
        "outputId": "6f5a7bff-fe9e-44e4-fc90-4b4df18c83f9"
      },
      "source": [
        "%tensorflow_version 2.x"
      ],
      "execution_count": 1,
      "outputs": [
        {
          "output_type": "stream",
          "text": [
            "TensorFlow 2.x selected.\n"
          ],
          "name": "stdout"
        }
      ]
    },
    {
      "cell_type": "code",
      "metadata": {
        "id": "LUGHczWlL53l",
        "colab_type": "code",
        "colab": {
          "base_uri": "https://localhost:8080/",
          "height": 34
        },
        "outputId": "601bfb6b-b88e-4b49-a37c-71184e7c805f"
      },
      "source": [
        "import tensorflow\n",
        "print(tensorflow.__version__)"
      ],
      "execution_count": 2,
      "outputs": [
        {
          "output_type": "stream",
          "text": [
            "2.1.0\n"
          ],
          "name": "stdout"
        }
      ]
    },
    {
      "cell_type": "code",
      "metadata": {
        "id": "P9vUOnJjsWsM",
        "colab_type": "code",
        "colab": {}
      },
      "source": [
        "# univariate lstm example\n",
        "from numpy import array\n",
        "from tensorflow.keras.models import Sequential\n",
        "from tensorflow.keras.layers import LSTM\n",
        "from tensorflow.keras.layers import Dense\n",
        "\n",
        "# split a univariate sequence into samples\n",
        "def split_sequence(sequence, n_steps):\n",
        "\tX, y = list(), list()\n",
        "\tfor i in range(len(sequence)):\n",
        "\t\t# find the end of this pattern\n",
        "\t\tend_ix = i + n_steps\n",
        "\t\t# check if we are beyond the sequence\n",
        "\t\tif end_ix > len(sequence)-1:\n",
        "\t\t\tbreak\n",
        "\t\t# gather input and output parts of the pattern\n",
        "\t\tseq_x, seq_y = sequence[i:end_ix], sequence[end_ix]\n",
        "\t\tX.append(seq_x)\n",
        "\t\ty.append(seq_y)\n",
        "\treturn array(X), array(y)\n",
        "\n",
        "# define input sequence\n",
        "raw_seq = [10, 20, 30, 40, 50, 60, 70, 80, 90]\n",
        "# choose a number of time steps\n",
        "n_steps = 3\n",
        "# split into samples\n",
        "X, y = split_sequence(raw_seq, n_steps)\n",
        "\n",
        "\n",
        "# reshape from [samples, timesteps] into [samples, timesteps, features]\n",
        "n_features = 1\n",
        "X = X.reshape((X.shape[0], X.shape[1], n_features))"
      ],
      "execution_count": 0,
      "outputs": []
    },
    {
      "cell_type": "code",
      "metadata": {
        "id": "R0712-L1MyNI",
        "colab_type": "code",
        "colab": {}
      },
      "source": [
        "# define model\n",
        "model = Sequential()\n",
        "model.add(LSTM(50, activation='relu', input_shape=(n_steps, n_features)))\n",
        "model.add(Dense(1))\n",
        "model.compile(optimizer='adam', loss='mse')"
      ],
      "execution_count": 0,
      "outputs": []
    },
    {
      "cell_type": "code",
      "metadata": {
        "id": "O88dwhRYMVM8",
        "colab_type": "code",
        "colab": {
          "base_uri": "https://localhost:8080/",
          "height": 34
        },
        "outputId": "4e17eb99-39b3-4a4b-ac47-a46ccd2934c5"
      },
      "source": [
        "# fit model\n",
        "model.fit(X, y, epochs=200, verbose=0)"
      ],
      "execution_count": 10,
      "outputs": [
        {
          "output_type": "execute_result",
          "data": {
            "text/plain": [
              "<tensorflow.python.keras.callbacks.History at 0x7fa0ee5874a8>"
            ]
          },
          "metadata": {
            "tags": []
          },
          "execution_count": 10
        },
        {
          "output_type": "stream",
          "text": [
            "time: 681 ms\n"
          ],
          "name": "stdout"
        }
      ]
    },
    {
      "cell_type": "code",
      "metadata": {
        "id": "VOBvMcRiMvJY",
        "colab_type": "code",
        "colab": {
          "base_uri": "https://localhost:8080/",
          "height": 51
        },
        "outputId": "62a0427c-abf2-4030-8850-927cde00e566"
      },
      "source": [
        "# demonstrate prediction\n",
        "x_input = array([70, 80, 90])\n",
        "x_input = x_input.reshape((1, n_steps, n_features))\n",
        "yhat = model.predict(x_input, verbose=0)\n",
        "print(yhat)"
      ],
      "execution_count": 11,
      "outputs": [
        {
          "output_type": "stream",
          "text": [
            "[[100.671715]]\n",
            "time: 41.3 ms\n"
          ],
          "name": "stdout"
        }
      ]
    },
    {
      "cell_type": "code",
      "metadata": {
        "id": "XQo354ZtNLgf",
        "colab_type": "code",
        "colab": {}
      },
      "source": [
        ""
      ],
      "execution_count": 0,
      "outputs": []
    }
  ]
}